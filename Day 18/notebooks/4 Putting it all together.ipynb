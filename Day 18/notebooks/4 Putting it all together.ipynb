{
 "cells": [
  {
   "cell_type": "code",
   "execution_count": 1,
   "metadata": {},
   "outputs": [],
   "source": [
    "from pathlib import Path\n",
    "import re\n",
    "import requests\n",
    "import time\n",
    "import datetime\n",
    "\n",
    "import pandas as pd\n",
    "from requests_html import HTML\n",
    "from selenium import webdriver\n",
    "from selenium.webdriver.chrome.options import Options"
   ]
  },
  {
   "cell_type": "code",
   "execution_count": 2,
   "metadata": {},
   "outputs": [],
   "source": [
    "BASE_DIR = Path.cwd()\n",
    "DATA_DIR = BASE_DIR / \"data\" # os.path.join(BASE_DIR, 'data')\n",
    "if not DATA_DIR.exists(): # os.path.exists(DATA_DIR)\n",
    "    DATA_DIR.mkdir(exist_ok=True) # os.makedirs(DATA_DIR, exist_ok=True)\n",
    "    \n",
    "product_category_links_output = DATA_DIR / \"category-products.csv\"\n",
    "product_output = DATA_DIR / \"products.csv\""
   ]
  },
  {
   "cell_type": "code",
   "execution_count": 3,
   "metadata": {},
   "outputs": [],
   "source": [
    "options = Options()\n",
    "options.add_argument(\"--headless\")\n",
    "\n",
    "driver = webdriver.Chrome(options=options)"
   ]
  },
  {
   "cell_type": "code",
   "execution_count": 4,
   "metadata": {},
   "outputs": [],
   "source": [
    "categories = [\n",
    "    {\"name\": \"toys-and-games\", \"url\": \"https://www.amazon.com/Best-Sellers-Toys-Games/zgbs/toys-and-games/\"},\n",
    "    {\"name\": \"electronics\", \"url\": \"https://www.amazon.com/Best-Sellers-Electronics/zgbs/electronics/\"},\n",
    "    {\"name\": \"fashion\", \"url\": \"https://www.amazon.com/Best-Sellers/zgbs/fashion/\"}\n",
    "]"
   ]
  },
  {
   "cell_type": "code",
   "execution_count": 5,
   "metadata": {},
   "outputs": [],
   "source": [
    "regex_options = [\n",
    "    r\"https://www.amazon.com/gp/product/(?P<product_id>[\\w-]+)/\",\n",
    "    r\"https://www.amazon.com/dp/(?P<product_id>[\\w-]+)/\",\n",
    "    r\"https://www.amazon.com/(?P<slug>[\\w-]+)/dp/(?P<product_id>[\\w-]+)/\",\n",
    "]\n",
    "\n",
    "def extract_product_id_from_url(url):\n",
    "    product_id = None\n",
    "    for regex_str in regex_options:\n",
    "        regex = re.compile(regex_str)\n",
    "        match = regex.match(url)\n",
    "        if match != None:\n",
    "            try:\n",
    "                product_id = match['product_id']\n",
    "            except:\n",
    "                pass\n",
    "    return product_id"
   ]
  },
  {
   "cell_type": "code",
   "execution_count": 6,
   "metadata": {},
   "outputs": [],
   "source": [
    "def clean_page_links(page_links=[], category=None):\n",
    "    final_page_links = []\n",
    "    for url in page_links:\n",
    "        product_id = extract_product_id_from_url(url)\n",
    "        if product_id != None:\n",
    "            final_page_links.append({\"url\": url, \"product_id\": product_id, \"category\": category})\n",
    "    return final_page_links"
   ]
  },
  {
   "cell_type": "code",
   "execution_count": 7,
   "metadata": {},
   "outputs": [],
   "source": [
    "def scrace_category_product_links(categories=[]):\n",
    "    all_product_links = []\n",
    "    for category in categories:\n",
    "        time.sleep(1.5)\n",
    "        url = category.get(\"url\")\n",
    "        driver.get(url)\n",
    "        body_el = driver.find_element_by_css_selector(\"body\")\n",
    "        html_str = body_el.get_attribute(\"innerHTML\")\n",
    "        html_obj = HTML(html=html_str)\n",
    "        page_links = [f\"https://www.amazon.com{x}\" for x in html_obj.links if x.startswith(\"/\")]\n",
    "        cleaned_links = clean_page_links(page_links=page_links, category=category)\n",
    "        all_product_links += cleaned_links\n",
    "    return all_product_links"
   ]
  },
  {
   "cell_type": "code",
   "execution_count": 8,
   "metadata": {},
   "outputs": [],
   "source": [
    "def extract_categories_and_save(categories=[]):\n",
    "    all_product_links = scrace_category_product_links(categories)\n",
    "    category_df = pd.DataFrame(all_product_links)\n",
    "    category_df.to_csv(product_category_links_output, index=False)"
   ]
  },
  {
   "cell_type": "code",
   "execution_count": 9,
   "metadata": {},
   "outputs": [],
   "source": [
    "extract_categories_and_save(categories=categories)"
   ]
  },
  {
   "cell_type": "code",
   "execution_count": 10,
   "metadata": {},
   "outputs": [],
   "source": [
    "\n",
    "def scrape_product_page(url, title_lookup = \"#productTitle\", price_lookup = \"#priceblock_ourprice\"):\n",
    "    driver.get(url)\n",
    "    time.sleep(1.5)\n",
    "    body_el = driver.find_element_by_css_selector(\"body\")\n",
    "    html_str = body_el.get_attribute(\"innerHTML\")\n",
    "    html_obj = HTML(html=html_str)\n",
    "    product_title = html_obj.find(title_lookup, first=True).text\n",
    "    product_price = html_obj.find(price_lookup, first=True).text\n",
    "    return product_title, product_price"
   ]
  },
  {
   "cell_type": "code",
   "execution_count": 11,
   "metadata": {},
   "outputs": [],
   "source": [
    "def perform_scrape(cleaned_items=[]):\n",
    "    data_extracted = []\n",
    "    for obj in cleaned_items:\n",
    "        link = obj['url']\n",
    "        product_id = obj['product_id']\n",
    "        title, price = (None, None)\n",
    "        try:\n",
    "            title, price = scrape_product_page(link)\n",
    "        except:\n",
    "            pass\n",
    "        if title != None and price != None:\n",
    "            print(link, title, price)\n",
    "        product_data = {\n",
    "            \"url\": link,\n",
    "            \"product_id\": product_id,\n",
    "            \"title\": title,\n",
    "            \"price\": price\n",
    "        }\n",
    "        data_extracted.append(product_data)\n",
    "    return data_extracted"
   ]
  },
  {
   "cell_type": "code",
   "execution_count": 12,
   "metadata": {},
   "outputs": [],
   "source": [
    "def row_scrape_event(row, *args, **kwargs):\n",
    "    link = row['url']\n",
    "    scraped = 0\n",
    "    try:\n",
    "        scraped = row['scraped']\n",
    "    except:\n",
    "        pass\n",
    "    # print(link)\n",
    "    if scraped == 1 or scraped == \"1\":\n",
    "        print(\"skipped\")\n",
    "        return row\n",
    "    product_id = row['product_id']\n",
    "    title, price = (None, None)\n",
    "    try:\n",
    "        title, price = scrape_product_page(link)\n",
    "    except:\n",
    "        pass\n",
    "    row['title'] = title\n",
    "    row['price'] = price\n",
    "    row['scraped'] = 1\n",
    "    row['timestamp'] = datetime.datetime.now().timestamp()\n",
    "    print(link, title, price)\n",
    "    return row"
   ]
  },
  {
   "cell_type": "code",
   "execution_count": 13,
   "metadata": {},
   "outputs": [
    {
     "data": {
      "text/html": [
       "<div>\n",
       "<style scoped>\n",
       "    .dataframe tbody tr th:only-of-type {\n",
       "        vertical-align: middle;\n",
       "    }\n",
       "\n",
       "    .dataframe tbody tr th {\n",
       "        vertical-align: top;\n",
       "    }\n",
       "\n",
       "    .dataframe thead th {\n",
       "        text-align: right;\n",
       "    }\n",
       "</style>\n",
       "<table border=\"1\" class=\"dataframe\">\n",
       "  <thead>\n",
       "    <tr style=\"text-align: right;\">\n",
       "      <th></th>\n",
       "      <th>category</th>\n",
       "      <th>product_id</th>\n",
       "      <th>url</th>\n",
       "    </tr>\n",
       "  </thead>\n",
       "  <tbody>\n",
       "    <tr>\n",
       "      <th>0</th>\n",
       "      <td>{'name': 'toys-and-games', 'url': 'https://www...</td>\n",
       "      <td>B07ZFHR7PX</td>\n",
       "      <td>https://www.amazon.com/Villana-Dinosaur-Includ...</td>\n",
       "    </tr>\n",
       "    <tr>\n",
       "      <th>1</th>\n",
       "      <td>{'name': 'toys-and-games', 'url': 'https://www...</td>\n",
       "      <td>B00062J99K</td>\n",
       "      <td>https://www.amazon.com/Crayola-Twistables-Clas...</td>\n",
       "    </tr>\n",
       "    <tr>\n",
       "      <th>2</th>\n",
       "      <td>{'name': 'toys-and-games', 'url': 'https://www...</td>\n",
       "      <td>B00NHQF65S</td>\n",
       "      <td>https://www.amazon.com/LEGO-Classic-Green-Base...</td>\n",
       "    </tr>\n",
       "    <tr>\n",
       "      <th>3</th>\n",
       "      <td>{'name': 'toys-and-games', 'url': 'https://www...</td>\n",
       "      <td>B01C5A2WJO</td>\n",
       "      <td>https://www.amazon.com/Little-Tikes-EasyScore-...</td>\n",
       "    </tr>\n",
       "    <tr>\n",
       "      <th>4</th>\n",
       "      <td>{'name': 'toys-and-games', 'url': 'https://www...</td>\n",
       "      <td>B074RCV4HQ</td>\n",
       "      <td>https://www.amazon.com/Mattel-Games-FPD61-Mine...</td>\n",
       "    </tr>\n",
       "  </tbody>\n",
       "</table>\n",
       "</div>"
      ],
      "text/plain": [
       "                                            category  product_id  \\\n",
       "0  {'name': 'toys-and-games', 'url': 'https://www...  B07ZFHR7PX   \n",
       "1  {'name': 'toys-and-games', 'url': 'https://www...  B00062J99K   \n",
       "2  {'name': 'toys-and-games', 'url': 'https://www...  B00NHQF65S   \n",
       "3  {'name': 'toys-and-games', 'url': 'https://www...  B01C5A2WJO   \n",
       "4  {'name': 'toys-and-games', 'url': 'https://www...  B074RCV4HQ   \n",
       "\n",
       "                                                 url  \n",
       "0  https://www.amazon.com/Villana-Dinosaur-Includ...  \n",
       "1  https://www.amazon.com/Crayola-Twistables-Clas...  \n",
       "2  https://www.amazon.com/LEGO-Classic-Green-Base...  \n",
       "3  https://www.amazon.com/Little-Tikes-EasyScore-...  \n",
       "4  https://www.amazon.com/Mattel-Games-FPD61-Mine...  "
      ]
     },
     "execution_count": 13,
     "metadata": {},
     "output_type": "execute_result"
    }
   ],
   "source": [
    "df = pd.read_csv(product_category_links_output)\n",
    "df.head()"
   ]
  },
  {
   "cell_type": "code",
   "execution_count": 14,
   "metadata": {},
   "outputs": [
    {
     "data": {
      "text/plain": [
       "(149, 3)"
      ]
     },
     "execution_count": 14,
     "metadata": {},
     "output_type": "execute_result"
    }
   ],
   "source": [
    "df.shape"
   ]
  },
  {
   "cell_type": "code",
   "execution_count": 15,
   "metadata": {
    "scrolled": true
   },
   "outputs": [],
   "source": [
    "df_sub = df.copy()"
   ]
  },
  {
   "cell_type": "code",
   "execution_count": null,
   "metadata": {},
   "outputs": [
    {
     "name": "stdout",
     "output_type": "stream",
     "text": [
      "https://www.amazon.com/Villana-Dinosaur-Including-Triceratops-Christmas/dp/B07ZFHR7PX/ref=zg_bs_toys-and-games_35/145-8865603-7995100?_encoding=UTF8&psc=1&refRID=BBAFJKNA3N3RBX2X8TKC None None\n",
      "https://www.amazon.com/Villana-Dinosaur-Including-Triceratops-Christmas/dp/B07ZFHR7PX/ref=zg_bs_toys-and-games_35/145-8865603-7995100?_encoding=UTF8&psc=1&refRID=BBAFJKNA3N3RBX2X8TKC None None\n",
      "https://www.amazon.com/Crayola-Twistables-Classrooms-Preschools-Self-Sharpening/dp/B00062J99K/ref=zg_bs_toys-and-games_31/145-8865603-7995100?_encoding=UTF8&psc=1&refRID=BBAFJKNA3N3RBX2X8TKC Crayola Twistables Crayons Coloring Set, Kids Indoor Activities at Home, 24 Count $4.49\n",
      "https://www.amazon.com/LEGO-Classic-Green-Baseplate-Supplement/dp/B00NHQF65S/ref=zg_bs_toys-and-games_34/145-8865603-7995100?_encoding=UTF8&psc=1&refRID=BBAFJKNA3N3RBX2X8TKC None None\n",
      "https://www.amazon.com/Little-Tikes-EasyScore-Basketball-Exclusive/dp/B01C5A2WJO/ref=zg_bs_toys-and-games_22/145-8865603-7995100?_encoding=UTF8&psc=1&refRID=BBAFJKNA3N3RBX2X8TKC Little Tikes Easy Score Basketball Set, Blue, 3 Balls - Amazon Exclusive $34.99\n",
      "https://www.amazon.com/Mattel-Games-FPD61-Minecraft-Card/dp/B074RCV4HQ/ref=zg_bs_toys-and-games_6/145-8865603-7995100?_encoding=UTF8&psc=1&refRID=BBAFJKNA3N3RBX2X8TKC UNO Minecraft Card Game $5.09\n",
      "https://www.amazon.com/Jenga-A2120EU4-Classic-Game/dp/B00ABA0ZOA/ref=zg_bs_toys-and-games_5/145-8865603-7995100?_encoding=UTF8&psc=1&refRID=BBAFJKNA3N3RBX2X8TKC None None\n",
      "https://www.amazon.com/First-Princess-Make-Kit-Everything/dp/B07FPWYY79/ref=zg_bs_toys-and-games_17/145-8865603-7995100?_encoding=UTF8&psc=1&refRID=BBAFJKNA3N3RBX2X8TKC None None\n",
      "https://www.amazon.com/First-Years-Stack-Up-Cups/dp/B00005C5H4/ref=zg_bs_toys-and-games_20/145-8865603-7995100?_encoding=UTF8&psc=1&refRID=BBAFJKNA3N3RBX2X8TKC The First Years Stack Up Cup Toys $6.00\n",
      "https://www.amazon.com/Darice-Solution-Top-Works-Machines-Birthdays/dp/B07RYBB4NZ/ref=zg_bs_toys-and-games_2/145-8865603-7995100?_encoding=UTF8&psc=1&refRID=BBAFJKNA3N3RBX2X8TKC Darice 64-Ounce Bubble Solution-Includes Wand and Easy Pour Funnel Top-Works with Bubble Machines-for Weddings, Birthdays and Outdoor Events $7.84\n",
      "https://www.amazon.com/Crayola-Jumbo-Crayons-16-Count/dp/B07L6VQDSC/ref=zg_bs_toys-and-games_27/145-8865603-7995100?_encoding=UTF8&psc=1&refRID=BBAFJKNA3N3RBX2X8TKC Crayola Jumbo Crayons, Assorted Colors, Great Toddler Crayons, 16Count $5.84\n",
      "https://www.amazon.com/L-L-Surprise-Surprises-Including/dp/B07XSPCBVP/ref=zg_bs_toys-and-games_8/145-8865603-7995100?_encoding=UTF8&psc=1&refRID=BBAFJKNA3N3RBX2X8TKC L.O.L. Surprise! Lights Glitter Doll with 8 Surprises Including Black Light Surprises $10.88\n",
      "https://www.amazon.com/Melissa-Doug-Pretend-Frustration-Free-Packaging/dp/B07PBXRJ7G/ref=zg_bs_toys-and-games_45/145-8865603-7995100?_encoding=UTF8&psc=1&refRID=BBAFJKNA3N3RBX2X8TKC Melissa & Doug Dust! Sweep! Mop! (Frustration Free Packaging) $26.99\n",
      "https://www.amazon.com/Hasbro-A5640-Connect-4-Game/dp/B00D8STBHY/ref=zg_bs_toys-and-games_map_4/145-8865603-7995100?_encoding=UTF8&psc=1&refRID=BBAFJKNA3N3RBX2X8TKC None None\n",
      "https://www.amazon.com/Crayola-Outdoor-Glitter-Sidewalk-Summer/dp/B00PY47F8M/ref=zg_bs_toys-and-games_24/145-8865603-7995100?_encoding=UTF8&psc=1&refRID=BBAFJKNA3N3RBX2X8TKC Crayola Outdoor Chalk, Glitter Sidewalk Chalk, Summer Toys, 5 Count $12.95\n",
      "https://www.amazon.com/Crayola-Colored-Pencils-Exclusive-Coloring/dp/B07MM2T4S8/ref=zg_bs_toys-and-games_32/145-8865603-7995100?_encoding=UTF8&psc=1&refRID=BBAFJKNA3N3RBX2X8TKC Crayola 100 Colored Pencils, Amazon Exclusive, Adult Coloring, Kids Indoor Activity at Home, Gift $16.99\n",
      "https://www.amazon.com/Intex-Crystal-Blue-Inflatable-Pool/dp/B000SN61UC/ref=zg_bs_toys-and-games_21/145-8865603-7995100?_encoding=UTF8&psc=1&refRID=BBAFJKNA3N3RBX2X8TKC Intex Crystal Blue Inflatable Pool, 45 x 10\" $19.50\n",
      "https://www.amazon.com/LEGO-Mandalorian-Troopers-Speeder-Building/dp/B07WJQW3XZ/ref=zg_bs_toys-and-games_44/145-8865603-7995100?_encoding=UTF8&psc=1&refRID=BBAFJKNA3N3RBX2X8TKC None None\n",
      "https://www.amazon.com/Crayola-Scents-Twistables-Crayons-Scented/dp/B071NB2BV3/ref=zg_bs_toys-and-games_43/145-8865603-7995100?_encoding=UTF8&psc=1&refRID=BBAFJKNA3N3RBX2X8TKC Crayola Silly Scents Twistables Crayons, Sweet Scented Crayons, Gift, 12Count, Multicolor (52-9612) $3.91\n",
      "https://www.amazon.com/Baby-Einstein-Along-Tunes-Musical/dp/B000YDDF6O/ref=zg_bs_toys-and-games_42/145-8865603-7995100?_encoding=UTF8&psc=1&refRID=BBAFJKNA3N3RBX2X8TKC Baby Einstein Take Along Tunes Musical Toy, Ages 3 months + $8.99\n",
      "https://www.amazon.com/Aqua-AZL17000-Monterey-Hammock-Multicolor/dp/B07G93WJP5/ref=zg_bs_toys-and-games_25/145-8865603-7995100?_encoding=UTF8&psc=1&refRID=BBAFJKNA3N3RBX2X8TKC AQUA 4-in-1 Monterey Hammock Inflatable Pool Float, Multi-Purpose Pool Hammock (Saddle, Lounge Chair, Hammock, Drifter) Pool Chair, Portable Water Hammock, Burgundy/White Stripe $11.94\n",
      "https://www.amazon.com/Washable-Sidewalk-Assorted-Bright-Crayola/dp/B00TBURYU4/ref=zg_bs_toys-and-games_26/145-8865603-7995100?_encoding=UTF8&psc=1&refRID=BBAFJKNA3N3RBX2X8TKC Washable Sidewalk Chalk, 48 Assorted Bright Colors by Crayola $27.99\n",
      "https://www.amazon.com/Jenga-A2120EU4-Classic-Game/dp/B00ABA0ZOA/ref=zg_bs_toys-and-games_map_5/145-8865603-7995100?_encoding=UTF8&psc=1&refRID=BBAFJKNA3N3RBX2X8TKC None None\n",
      "https://www.amazon.com/Nerf-N-Strike-Elite-Strongarm-Blaster/dp/B00DW1JT5G/ref=zg_bs_toys-and-games_30/145-8865603-7995100?_encoding=UTF8&psc=1&refRID=BBAFJKNA3N3RBX2X8TKC Nerf N Strike Elite Strongarm Toy Blaster with Rotating Barrel, Slam Fire, and 6 Official Nerf Elite Darts for Kids, Teens, & Adults(Amazon Exclusive) $13.99\n",
      "https://www.amazon.com/L-L-Surprise-Glitter-Winter/dp/B07PRZYJHZ/ref=zg_bs_toys-and-games_19/145-8865603-7995100?_encoding=UTF8&psc=1&refRID=BBAFJKNA3N3RBX2X8TKC L.O.L. Surprise! Glitter Globe Doll Winter Disco Series with Glitter Hair $8.19\n",
      "https://www.amazon.com/Learning-Resources-Spike-Hedgehog-Sensory/dp/B078WM314M/ref=zg_bs_toys-and-games_40/145-8865603-7995100?_encoding=UTF8&psc=1&refRID=BBAFJKNA3N3RBX2X8TKC Learning Resources Spike The Fine Motor Hedgehog, Sensory, Fine Motor Toy, Easter Basket Toy, Ages 18 months+ $10.99\n",
      "https://www.amazon.com/RUBFAC-Assorted-Balloons-Decoration-Birthday/dp/B07WGXTKGY/ref=zg_bs_toys-and-games_50/145-8865603-7995100?_encoding=UTF8&psc=1&refRID=BBAFJKNA3N3RBX2X8TKC None None\n",
      "https://www.amazon.com/Insect-Lore-Butterfly-Garden-Caterpillars/dp/B087YKKT98/ref=zg_bs_toys-and-games_15/145-8865603-7995100?_encoding=UTF8&psc=1&refRID=BBAFJKNA3N3RBX2X8TKC Insect Lore Butterfly Garden: Original Habitat and Live Cup of Caterpillars with STEM Butterfly Journal – Life Science & STEM Education – Butterfly Kit $36.99\n",
      "https://www.amazon.com/Hasbro-B0965-Monopoly-Deal-Card/dp/B00NQQTZCO/ref=zg_bs_toys-and-games_28/145-8865603-7995100?_encoding=UTF8&psc=1&refRID=BBAFJKNA3N3RBX2X8TKC Monopoly Deal Card Game $7.99\n",
      "https://www.amazon.com/L-L-Surprise-Candylicious-Multicolor/dp/B07XSQ3BYJ/ref=zg_bs_toys-and-games_29/145-8865603-7995100?_encoding=UTF8&psc=1&refRID=BBAFJKNA3N3RBX2X8TKC L.O.L. Surprise! O.M.G. Candylicious Fashion Doll with 20 Surprises,Multicolor $26.88\n",
      "https://www.amazon.com/Battleship-Planes-Strategy-Amazon-Exclusive/dp/B06Y1N3PTX/ref=zg_bs_toys-and-games_48/145-8865603-7995100?_encoding=UTF8&psc=1&refRID=BBAFJKNA3N3RBX2X8TKC Battleship With Planes Strategy Board Game For Ages 7 and Up (Amazon Exclusive) $14.99\n",
      "https://www.amazon.com/Cards-Against-Humanity-LLC-CAHUS/dp/B004S8F7QM/ref=zg_bs_toys-and-games_9/145-8865603-7995100?_encoding=UTF8&psc=1&refRID=BBAFJKNA3N3RBX2X8TKC Cards Against Humanity $25.00\n",
      "https://www.amazon.com/Crayola-Colored-Pre-sharpened-Coloring-Stocking/dp/B018HB2QFU/ref=zg_bs_toys-and-games_16/145-8865603-7995100?_encoding=UTF8&psc=1&refRID=BBAFJKNA3N3RBX2X8TKC Crayola Colored Pencils, Adult Coloring, Fun At Home Activities, 50 Count $15.08\n",
      "https://www.amazon.com/Dan-Darci-Paint-Flower-Growing/dp/B07KQLCGSR/ref=zg_bs_toys-and-games_49/145-8865603-7995100?_encoding=UTF8&psc=1&refRID=BBAFJKNA3N3RBX2X8TKC Dan&Darci Paint & Plant Flower Growing Kit - Grow Cosmos, Zinnia, Marigold Flowers : Includes Everything Needed to Paint & Grow - Great Gardening Science Gifts for Girls and Boys Ages 6 7 8 9 10 $27.99\n"
     ]
    },
    {
     "name": "stdout",
     "output_type": "stream",
     "text": [
      "https://www.amazon.com/LEGO-Classic-Medium-Creative-Brick/dp/B00NHQFA1I/ref=zg_bs_toys-and-games_14/145-8865603-7995100?_encoding=UTF8&psc=1&refRID=BBAFJKNA3N3RBX2X8TKC None None\n",
      "https://www.amazon.com/Crayola-Count-Sidewalk-Chalk-51-2048/dp/B00AHAJGXK/ref=zg_bs_toys-and-games_7/145-8865603-7995100?_encoding=UTF8&psc=1&refRID=BBAFJKNA3N3RBX2X8TKC None None\n",
      "https://www.amazon.com/Play-Doh-B3423AS0-Confetti-Compound-Collection/dp/B011MIUQHA/ref=zg_bs_toys-and-games_18/145-8865603-7995100?_encoding=UTF8&psc=1&refRID=BBAFJKNA3N3RBX2X8TKC None None\n",
      "https://www.amazon.com/Unicorn-Supplies-Everything-Glitter-Instructions/dp/B07C2YPYBM/ref=zg_bs_toys-and-games_41/145-8865603-7995100?_encoding=UTF8&psc=1&refRID=BBAFJKNA3N3RBX2X8TKC Original Stationery Unicorn Slime Kit Supplies Stuff for Girls Making Slime [Everything in One Box] Kids Can Make Unicorn, Glitter, Fluffy Cloud, Floam Putty, Pink $29.99\n",
      "https://www.amazon.com/Disney-Princess-Necklace-Activity-Set/dp/B0747ZGTTG/ref=zg_bs_toys-and-games_37/145-8865603-7995100?_encoding=UTF8&psc=1&refRID=BBAFJKNA3N3RBX2X8TKC Tara Toy Disney Princess Necklace Activity Set $11.69\n",
      "https://www.amazon.com/SplashEZ-Sprinkler-Splash-Wading-Learning/dp/B07MNMT3M7/ref=zg_bs_toys-and-games_12/145-8865603-7995100?_encoding=UTF8&psc=1&refRID=BBAFJKNA3N3RBX2X8TKC SplashEZ 3-in-1 Sprinkler for Kids, Splash Pad, and Wading Pool for Learning – Children’s Sprinkler Pool, 60’’ Inflatable Water Toys – “from A to Z” Outdoor Swimming Pool for Babies and Toddlers $34.99\n",
      "https://www.amazon.com/Aqua-Monterey-Multi-Purpose-Inflatable-Portable/dp/B073WMYP6M/ref=zg_bs_toys-and-games_10/145-8865603-7995100?_encoding=UTF8&psc=1&refRID=BBAFJKNA3N3RBX2X8TKC Aqua 4-in-1 Monterey Hammock Inflatable Pool Float, Multi-Purpose Pool Hammock (Saddle, Lounge Chair, Hammock, Drifter) Pool Chair, Portable Water Hammock, Navy/White Stripe $15.99\n",
      "https://www.amazon.com/Intex-Floating-Recliner-Inflatable-Lounge/dp/B000KHZ044/ref=zg_bs_toys-and-games_46/145-8865603-7995100?_encoding=UTF8&psc=1&refRID=BBAFJKNA3N3RBX2X8TKC Floating Recliner Inflatable Lounge, 71in X 53in $22.99\n",
      "https://www.amazon.com/Crayola-Washable-Watercolors-8-ea/dp/B000HHKAE2/ref=zg_bs_toys-and-games_11/145-8865603-7995100?_encoding=UTF8&psc=1&refRID=BBAFJKNA3N3RBX2X8TKC Crayola Washable Watercolors, Paint Set For Kids, 8Count $1.97\n",
      "https://www.amazon.com/Pacon-PAC6555-Lightweight-Construction-Assorted/dp/B0013CDJTS/ref=zg_bs_toys-and-games_13/145-8865603-7995100?_encoding=UTF8&psc=1&refRID=BBAFJKNA3N3RBX2X8TKC Pacon 9\"x12\" Rainbow Super Value Construction Paper Ream, Assorted $12.48\n",
      "https://www.amazon.com/Hasbro-A5640-Connect-4-Game/dp/B00D8STBHY/ref=zg_bs_toys-and-games_4/145-8865603-7995100?_encoding=UTF8&psc=1&refRID=BBAFJKNA3N3RBX2X8TKC None None\n",
      "https://www.amazon.com/Mattel-Games-Official-Amazon-Exclusive/dp/B07P6MZPK3/ref=zg_bs_toys-and-games_23/145-8865603-7995100?_encoding=UTF8&psc=1&refRID=BBAFJKNA3N3RBX2X8TKC Mattel Games UNO: Classic (Tin Box) [Amazon Exclusive] $9.99\n",
      "https://www.amazon.com/LEGO-Minifigures-Collectible-Featuring-Characters/dp/B07WF9TGFH/ref=zg_bs_toys-and-games_38/145-8865603-7995100?_encoding=UTF8&psc=1&refRID=BBAFJKNA3N3RBX2X8TKC None None\n",
      "https://www.amazon.com/Mr-Potato-Head-Movin-Lips/dp/B07MQBR1SR/ref=zg_bs_toys-and-games_3/145-8865603-7995100?_encoding=UTF8&psc=1&refRID=BBAFJKNA3N3RBX2X8TKC Mr Potato Head Playskool Movin' Lips Electronic Interactive Talking Toy for Kids Ages 3 & Up $7.97\n",
      "https://www.amazon.com/Munchkin-17040-Fishin-Bath-Toy/dp/B01N52DUNK/ref=zg_bs_toys-and-games_36/145-8865603-7995100?_encoding=UTF8&psc=1&refRID=BBAFJKNA3N3RBX2X8TKC Munchkin Fishin' Bath Toy $7.73\n",
      "https://www.amazon.com/LEGO-Creator-Creatures-31088-Building/dp/B07GWZNF91/ref=zg_bs_toys-and-games_39/145-8865603-7995100?_encoding=UTF8&psc=1&refRID=BBAFJKNA3N3RBX2X8TKC None None\n",
      "https://www.amazon.com/Fisher-Price-Wonder-Makers-Design-Starter/dp/B07F7X8ZW5/ref=zg_bs_toys-and-games_33/145-8865603-7995100?_encoding=UTF8&psc=1&refRID=BBAFJKNA3N3RBX2X8TKC Fisher-Price Wonder Makers Design System Build Around Town Starter Kit $10.51\n",
      "https://www.amazon.com/L-L-Surprise-Frontline-Surprises/dp/B0877QJWVY/ref=zg_bs_toys-and-games_1/145-8865603-7995100?_encoding=UTF8&psc=1&refRID=BBAFJKNA3N3RBX2X8TKC L.O.L. Surprise! MGAE Cares Limited Edition Frontline Hero with 7 Surprises $9.99\n",
      "https://www.amazon.com/All-new-Kindle-Paperwhite-Waterproof-Storage/dp/B07CXG6C9W/ref=zg_bs_electronics_13?_encoding=UTF8&psc=1&refRID=VX8QHHB1QYVFEHRY1GSD Kindle Paperwhite – Now Waterproof with 2x the Storage – Includes Special Offers $94.99\n",
      "https://www.amazon.com/TP-Link-AC1750-Smart-WiFi-Router/dp/B079JD7F7G/ref=zg_bs_electronics_17?_encoding=UTF8&psc=1&refRID=VX8QHHB1QYVFEHRY1GSD TP-Link AC1750 Smart WiFi Router - Dual Band Gigabit Wireless Internet Router for Home, Works with Alexa, VPN Server, Parental Control&QoS (Archer A7) $64.99\n",
      "https://www.amazon.com/Letsfit-Activity-Waterproof-Pedometer-Smartwatch/dp/B07X2KLTJ2/ref=zg_bs_electronics_42?_encoding=UTF8&psc=1&refRID=VX8QHHB1QYVFEHRY1GSD Letsfit Smart Watch, Fitness Tracker with Heart Rate Monitor, Activity Tracker with 1.3\" Touch Screen, IP68 Waterproof Pedometer Smartwatch with Sleep Monitor, Step Counter for Women and Men $38.03\n",
      "https://www.amazon.com/Wyze-1080p-Indoor-Camera-Vision/dp/B07DGR98VQ/ref=zg_bs_electronics_29?_encoding=UTF8&psc=1&refRID=VX8QHHB1QYVFEHRY1GSD Wyze Cam Pan 1080p Pan/Tilt/Zoom Wi-Fi Indoor Smart Home Camera with Night Vision, 2-Way Audio, Works with Alexa & the Google Assistant, White - WYZECP1 $37.98\n",
      "https://www.amazon.com/all-new-Echo/dp/B07R1CXKN7/ref=zg_bs_electronics_25?_encoding=UTF8&psc=1&refRID=VX8QHHB1QYVFEHRY1GSD Echo (3rd Gen) - Alexa-enabled smart speaker with room-filling sound - Twilight Blue $69.99\n",
      "https://www.amazon.com/Fire-7-Kids-Edition-Tablet/dp/B07H8WS1FT/ref=zg_bs_electronics_50?_encoding=UTF8&psc=1&refRID=VX8QHHB1QYVFEHRY1GSD Fire 7 Kids Edition Tablet, 7\" Display, 16 GB, Blue Kid-Proof Case $99.99\n",
      "https://www.amazon.com/all-new-Echo/dp/B07NFTVP7P/ref=zg_bs_electronics_18?_encoding=UTF8&psc=1&refRID=VX8QHHB1QYVFEHRY1GSD Echo (3rd Gen) - Alexa-enabled smart speaker with room-filling sound - Charcoal $69.99\n",
      "https://www.amazon.com/Wyze-Indoor-Wireless-Detection-Assistant/dp/B076H3SRXG/ref=zg_bs_electronics_21?_encoding=UTF8&psc=1&refRID=VX8QHHB1QYVFEHRY1GSD Wyze Cam 1080p HD Indoor Wireless Smart Home Camera with Night Vision, 2-Way Audio, Works with Alexa & the Google Assistant, One Pack, White - WYZEC2 $25.98\n",
      "https://www.amazon.com/Echo-Dot/dp/B07FZ8S74R/ref=zg_bs_electronics_2?_encoding=UTF8&psc=1&refRID=VX8QHHB1QYVFEHRY1GSD Echo Dot (3rd Gen) - Smart speaker with Alexa - Charcoal $29.99\n",
      "https://www.amazon.com/All-new-Blink-Outdoor-Security-included/dp/B07M8DTHGL/ref=zg_bs_electronics_48?_encoding=UTF8&psc=1&refRID=VX8QHHB1QYVFEHRY1GSD Blink XT2 Outdoor/Indoor Smart Security Camera with cloud storage included, 2-way audio, 2-year battery life – Add-on camera for existing Blink customers $67.49\n",
      "https://www.amazon.com/Fire-Tablet-7/dp/B07HZHCDQG/ref=zg_bs_electronics_40?_encoding=UTF8&psc=1&refRID=VX8QHHB1QYVFEHRY1GSD Fire 7 Tablet (7\" display, 16 GB) - Sage $49.99\n",
      "https://www.amazon.com/Fujifilm-INSTAX-Instant-Sheets-Cameras/dp/B06W5JYQX1/ref=zg_bs_electronics_43?_encoding=UTF8&psc=1&refRID=VX8QHHB1QYVFEHRY1GSD Fujifilm INSTAX Mini Instant Film 2 Pack = 20 Sheets (White) for Fujifilm Mini 8 & Mini 9 Cameras, Model:4332059078 $14.85\n",
      "https://www.amazon.com/Echo-Dot/dp/B07N8RPRF7/ref=zg_bs_electronics_5?_encoding=UTF8&psc=1&refRID=VX8QHHB1QYVFEHRY1GSD Echo Dot (3rd Gen) - Smart speaker with clock and Alexa - Sandstone $39.99\n",
      "https://www.amazon.com/Fire-TV-Stick-4K-with-Alexa-Voice-Remote/dp/B079QHML21/ref=zg_bs_electronics_3?_encoding=UTF8&psc=1&refRID=VX8QHHB1QYVFEHRY1GSD Fire TV Stick 4K streaming device with Alexa built in, Dolby Vision, includes Alexa Voice Remote, latest release $49.99\n",
      "https://www.amazon.com/Apple-iPad-10-2-Inch-Wi-Fi-32GB/dp/B07XL7G4HH/ref=zg_bs_electronics_31?_encoding=UTF8&psc=1&refRID=VX8QHHB1QYVFEHRY1GSD None None\n",
      "https://www.amazon.com/Echo-Dot-3rd-Gen-Sandstone/dp/B07PGL2N7J/ref=zg_bs_electronics_9?_encoding=UTF8&psc=1&refRID=VX8QHHB1QYVFEHRY1GSD Echo Dot (3rd Gen) - Smart speaker with Alexa - Sandstone $29.99\n"
     ]
    },
    {
     "name": "stdout",
     "output_type": "stream",
     "text": [
      "https://www.amazon.com/Echo-Show-8/dp/B07RQ3TCT2/ref=zg_bs_electronics_32?_encoding=UTF8&psc=1&refRID=VX8QHHB1QYVFEHRY1GSD Echo Show 8 - HD 8\" smart display with Alexa - Sandstone $79.99\n",
      "https://www.amazon.com/Fire-Tablet-7/dp/B07HZHJGY7/ref=zg_bs_electronics_26?_encoding=UTF8&psc=1&refRID=VX8QHHB1QYVFEHRY1GSD Fire 7 Tablet (7\" display, 16 GB) - Twilight Blue $49.99\n",
      "https://www.amazon.com/Roku-Premiere-HDR-Streaming-Player-Premium/dp/B07HDBZN7Q/ref=zg_bs_electronics_4?_encoding=UTF8&psc=1&refRID=VX8QHHB1QYVFEHRY1GSD Roku Premiere | HD/4K/HDR Streaming Media Player, Simple Remote and Premium HDMI Cable $29.99\n",
      "https://www.amazon.com/Roku-Streaming-Player-Premium-Headphones/dp/B07WVF9SL5/ref=zg_bs_electronics_38?_encoding=UTF8&psc=1&refRID=VX8QHHB1QYVFEHRY1GSD Roku Ultra | Streaming Media Player 4K/HD/HDR with Premium JBL Headphones 2019 $84.49\n",
      "https://www.amazon.com/Fitbit-Fitness-Smartwatch-Tracking-Included/dp/B07TWFVDWT/ref=zg_bs_electronics_11?_encoding=UTF8&psc=1&refRID=VX8QHHB1QYVFEHRY1GSD Fitbit Versa 2 Health and Fitness Smartwatch with Heart Rate, Music, Alexa Built-In, Sleep and Swim Tracking, Black/Carbon, One Size (S and L Bands Included) $199.75\n",
      "https://www.amazon.com/Roku-Express-Streaming-Media-Player/dp/B07WVFCVJN/ref=zg_bs_electronics_10?_encoding=UTF8&psc=1&refRID=VX8QHHB1QYVFEHRY1GSD None None\n",
      "https://www.amazon.com/Introducing-Echo-Show-Compact-Sandstone/dp/B07HZJ64WD/ref=zg_bs_electronics_33?_encoding=UTF8&psc=1&refRID=VX8QHHB1QYVFEHRY1GSD Echo Show 5 – stay connected and in touch with Alexa - Sandstone $49.99\n",
      "https://www.amazon.com/Echo-Dot/dp/B07PDHSLM6/ref=zg_bs_electronics_19?_encoding=UTF8&psc=1&refRID=VX8QHHB1QYVFEHRY1GSD None None\n",
      "https://www.amazon.com/Fire-HD-10/dp/B07KD6BTCZ/ref=zg_bs_electronics_46?_encoding=UTF8&psc=1&refRID=VX8QHHB1QYVFEHRY1GSD None None\n",
      "https://www.amazon.com/All-new-Kindle-Paperwhite-Waterproof-Storage/dp/B07745PV5G/ref=zg_bs_electronics_41?_encoding=UTF8&psc=1&refRID=VX8QHHB1QYVFEHRY1GSD Kindle Paperwhite – Now Waterproof with more than 2x the Storage – Includes Special Offers $119.99\n",
      "https://www.amazon.com/TCL-32S325-Inch-720p-Smart/dp/B07G9XZ83W/ref=zg_bs_electronics_34?_encoding=UTF8&psc=1&refRID=VX8QHHB1QYVFEHRY1GSD TCL 32S325 32 Inch 720p Roku Smart LED TV (2019) $127.88\n",
      "https://www.amazon.com/Ring-8AB1S7-0EU0-Rechargeable-Battery-Pack/dp/B076JKHDQT/ref=zg_bs_electronics_27?_encoding=UTF8&psc=1&refRID=VX8QHHB1QYVFEHRY1GSD None None\n",
      "https://www.amazon.com/Apple-iPad-10-2-Inch-Wi-Fi-32GB/dp/B07XL7G4H6/ref=zg_bs_electronics_14?_encoding=UTF8&psc=1&refRID=VX8QHHB1QYVFEHRY1GSD None None\n",
      "https://www.amazon.com/All-New-Fire-Tablet-Display-Punch/dp/B078HNTH41/ref=zg_bs_electronics_47?_encoding=UTF8&psc=1&refRID=VX8QHHB1QYVFEHRY1GSD Fire HD 8 Tablet (8\" HD Display, 16 GB) - Red $79.99\n",
      "https://www.amazon.com/Introducing-Echo-Show-Compact-Charcoal/dp/B07HZLHPKP/ref=zg_bs_electronics_6?_encoding=UTF8&psc=1&refRID=VX8QHHB1QYVFEHRY1GSD Echo Show 5 – stay connected and in touch with Alexa - Charcoal $49.99\n",
      "https://www.amazon.com/AmazonBasics-6-Outlet-Protector-2-Pack-2-Foot/dp/B00TP1BWMK/ref=zg_bs_electronics_35?_encoding=UTF8&psc=1&refRID=VX8QHHB1QYVFEHRY1GSD None None\n",
      "https://www.amazon.com/Roku-Streaming-Stick-HDR-Streaming-Long-range/dp/B075XLWML4/ref=zg_bs_electronics_45?_encoding=UTF8&psc=1&refRID=VX8QHHB1QYVFEHRY1GSD None None\n",
      "https://www.amazon.com/Echo-Show-8/dp/B07PF1Y28C/ref=zg_bs_electronics_7?_encoding=UTF8&psc=1&refRID=VX8QHHB1QYVFEHRY1GSD None None\n",
      "https://www.amazon.com/Fire-TV-Stick-with-Alexa-Voice-Remote/dp/B0791TX5P5/ref=zg_bs_electronics_1?_encoding=UTF8&psc=1&refRID=VX8QHHB1QYVFEHRY1GSD None None\n",
      "https://www.amazon.com/Echo-Dot-3rd-Gen-speaker/dp/B07W95GZNH/ref=zg_bs_electronics_8?_encoding=UTF8&psc=1&refRID=VX8QHHB1QYVFEHRY1GSD None None\n",
      "https://www.amazon.com/Fire-Tablet-7/dp/B07FKR6KXF/ref=zg_bs_electronics_12?_encoding=UTF8&psc=1&refRID=VX8QHHB1QYVFEHRY1GSD None None\n",
      "https://www.amazon.com/TCL-32S327-32-Inch-1080p-Smart/dp/B07F981R8M/ref=zg_bs_electronics_44?_encoding=UTF8&psc=1&refRID=VX8QHHB1QYVFEHRY1GSD None None\n",
      "https://www.amazon.com/Kindle-Now-with-Built-in-Front-Light/dp/B07978J597/ref=zg_bs_electronics_24?_encoding=UTF8&psc=1&refRID=VX8QHHB1QYVFEHRY1GSD None None\n",
      "https://www.amazon.com/All-new-Blink-Outdoor-Security-included/dp/B07MN67BCR/ref=zg_bs_electronics_36?_encoding=UTF8&psc=1&refRID=VX8QHHB1QYVFEHRY1GSD Blink XT2 Outdoor/Indoor Smart Security Camera with cloud storage included, 2-way audio, 2-year battery life – 2 camera kit $134.99\n",
      "https://www.amazon.com/amFilm-Tempered-Screen-Protector-Nintendo-Switch/dp/B01N3ASPNV/ref=zg_bs_electronics_37?_encoding=UTF8&psc=1&refRID=VX8QHHB1QYVFEHRY1GSD None None\n",
      "https://www.amazon.com/SanDisk-MicroSDXC-Nintendo-Switch-SDSQXAO-128G-GNCZN/dp/B07KXQX3S3/ref=zg_bs_electronics_20?_encoding=UTF8&psc=1&refRID=VX8QHHB1QYVFEHRY1GSD None None\n",
      "https://www.amazon.com/Apple-TV-32GB-4th-generation/dp/B075NFX24M/ref=zg_bs_electronics_49?_encoding=UTF8&psc=1&refRID=VX8QHHB1QYVFEHRY1GSD None None\n",
      "https://www.amazon.com/Fire-Tablet-7/dp/B07HZQBBKL/ref=zg_bs_electronics_28?_encoding=UTF8&psc=1&refRID=VX8QHHB1QYVFEHRY1GSD None None\n",
      "https://www.amazon.com/TCL-40S325-Inch-1080p-Smart/dp/B07GB61TQR/ref=zg_bs_electronics_22?_encoding=UTF8&psc=1&refRID=VX8QHHB1QYVFEHRY1GSD None None\n",
      "https://www.amazon.com/OHill-Organizer-Management-Organizing-Adhesive/dp/B071FXZBMV/ref=zg_bs_electronics_39?_encoding=UTF8&psc=1&refRID=VX8QHHB1QYVFEHRY1GSD None None\n",
      "https://www.amazon.com/Sceptre-E205W-16003R-Frameless-Speakers-Metallic/dp/B07743412C/ref=zg_bs_electronics_30?_encoding=UTF8&psc=1&refRID=VX8QHHB1QYVFEHRY1GSD None None\n",
      "https://www.amazon.com/TCL-50S425-inch-Smart-Roku/dp/B07JK98NNQ/ref=zg_bs_electronics_16?_encoding=UTF8&psc=1&refRID=VX8QHHB1QYVFEHRY1GSD None None\n",
      "https://www.amazon.com/Amazon-Essentials-Womens-Stretch-10-Pack/dp/B07CJWMX3L/ref=zg_bs_fashion_7?_encoding=UTF8&psc=1&refRID=JKCFWMHTNF5VVCWBGFD1 None None\n",
      "https://www.amazon.com/adidas-Adilette-Shower-Slide-Sandal/dp/B07SCW8B58/ref=zg_bs_fashion_20?_encoding=UTF8&psc=1&refRID=JKCFWMHTNF5VVCWBGFD1 None None\n",
      "https://www.amazon.com/Hanes-Sport-Womens-Performance-V-Neck/dp/B00KRYOPU0/ref=zg_bs_fashion_31?_encoding=UTF8&psc=1&refRID=JKCFWMHTNF5VVCWBGFD1 None None\n",
      "https://www.amazon.com/Gildan-Shirts-Multipack-Black-Small/dp/B07JCJMPVN/ref=zg_bs_fashion_35?_encoding=UTF8&psc=1&refRID=JKCFWMHTNF5VVCWBGFD1 None None\n",
      "https://www.amazon.com/Hanes-Ecosmart-Fleece-Sweatshirt-Forest/dp/B01L8JJ7XW/ref=zg_bs_fashion_5?_encoding=UTF8&psc=1&refRID=JKCFWMHTNF5VVCWBGFD1 None None\n"
     ]
    }
   ],
   "source": [
    "df_sub = df_sub.apply(row_scrape_event, axis=1)"
   ]
  },
  {
   "cell_type": "code",
   "execution_count": null,
   "metadata": {
    "scrolled": true
   },
   "outputs": [],
   "source": [
    "products_df = pd.read_csv(product_output)"
   ]
  },
  {
   "cell_type": "code",
   "execution_count": null,
   "metadata": {},
   "outputs": [],
   "source": [
    "final_df = pd.concat([products_df, df_sub])\n",
    "final_df.to_csv(product_output, index=False)"
   ]
  },
  {
   "cell_type": "code",
   "execution_count": null,
   "metadata": {},
   "outputs": [],
   "source": [
    "final_df.head()"
   ]
  }
 ],
 "metadata": {
  "kernelspec": {
   "display_name": "Python 3",
   "language": "python",
   "name": "python3"
  },
  "language_info": {
   "codemirror_mode": {
    "name": "ipython",
    "version": 3
   },
   "file_extension": ".py",
   "mimetype": "text/x-python",
   "name": "python",
   "nbconvert_exporter": "python",
   "pygments_lexer": "ipython3",
   "version": "3.6.9"
  }
 },
 "nbformat": 4,
 "nbformat_minor": 2
}
