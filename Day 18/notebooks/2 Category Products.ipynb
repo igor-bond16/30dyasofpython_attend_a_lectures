{
 "cells": [
  {
   "cell_type": "code",
   "execution_count": 17,
   "metadata": {},
   "outputs": [],
   "source": [
    "import requests\n",
    "from requests_html import HTML\n",
    "from selenium import webdriver\n",
    "from selenium.webdriver.chrome.options import Options\n",
    "import time"
   ]
  },
  {
   "cell_type": "code",
   "execution_count": 2,
   "metadata": {},
   "outputs": [],
   "source": [
    "options = Options()\n",
    "options.add_argument(\"--headless\")\n",
    "\n",
    "driver = webdriver.Chrome(options=options)"
   ]
  },
  {
   "cell_type": "code",
   "execution_count": 6,
   "metadata": {},
   "outputs": [],
   "source": [
    "categories = [\n",
    "    \"https://www.amazon.co.jp/gp/bestsellers/videogames/\",\n",
    "    \"https://www.amazon.co.jp/gp/bestsellers/electronics/\",\n",
    "    \"https://www.amazon.co.jp/gp/bestsellers/apparel/\",\n",
    "]"
   ]
  },
  {
   "cell_type": "code",
   "execution_count": 7,
   "metadata": {},
   "outputs": [
    {
     "data": {
      "text/plain": [
       "['https://www.amazon.co.jp/gp/bestsellers/videogames/',\n",
       " 'https://www.amazon.co.jp/gp/bestsellers/electronics/',\n",
       " 'https://www.amazon.co.jp/gp/bestsellers/apparel/']"
      ]
     },
     "execution_count": 7,
     "metadata": {},
     "output_type": "execute_result"
    }
   ],
   "source": [
    "categories"
   ]
  },
  {
   "cell_type": "code",
   "execution_count": 8,
   "metadata": {},
   "outputs": [],
   "source": [
    "first_url = categories[0]"
   ]
  },
  {
   "cell_type": "code",
   "execution_count": 9,
   "metadata": {},
   "outputs": [],
   "source": [
    "driver.get(first_url)"
   ]
  },
  {
   "cell_type": "code",
   "execution_count": 10,
   "metadata": {},
   "outputs": [],
   "source": [
    "body_el = driver.find_element_by_css_selector(\"body\")\n",
    "html_str = body_el.get_attribute(\"innerHTML\")"
   ]
  },
  {
   "cell_type": "code",
   "execution_count": 11,
   "metadata": {},
   "outputs": [],
   "source": [
    "html_obj = HTML(html=html_str)"
   ]
  },
  {
   "cell_type": "code",
   "execution_count": 24,
   "metadata": {},
   "outputs": [],
   "source": [
    "new_links = [x for x in html_obj.links if x.startswith(\"/\")]\n",
    "new_links = [x for x in new_links if \"product-reviews/\" not in x]"
   ]
  },
  {
   "cell_type": "code",
   "execution_count": 15,
   "metadata": {},
   "outputs": [],
   "source": [
    "page_links = [f\"https://www.amazon.co.jp{x}\" for x in new_links]\n"
   ]
  },
  {
   "cell_type": "code",
   "execution_count": 16,
   "metadata": {},
   "outputs": [
    {
     "data": {
      "text/plain": [
       "['https://www.amazon.co.jp/%E3%80%90%E6%9C%80%E6%96%B0%E3%82%B7%E3%82%B9%E3%83%86%E3%83%A0%E5%AF%BE%E5%BF%9C%E7%A2%BA%E8%AA%8D%E3%80%91%E5%9B%9B%E9%9A%8E%E6%AE%B5%E8%AA%BF%E6%95%B4%E3%82%B9%E3%82%BF%E3%83%B3%E3%83%89-%E7%9B%B4%E6%8E%A5%E3%81%ABTV%E5%87%BA%E5%8A%9B-%E3%83%86%E3%83%BC%E3%83%96%E3%83%AB%E3%83%A2%E3%83%BC%E3%83%89%E3%80%91-%E6%9C%80%E6%96%B0%E3%82%B7%E3%82%B9%E3%83%86%E3%83%A0%E5%AF%BE%E5%BF%9C-Nintendo/dp/B07T94PDF7/ref=zg_bs_videogames_43/357-3456137-5371151?_encoding=UTF8&psc=1&refRID=EEAHVJ63B5C7S16AFCFN',\n",
       " 'https://www.amazon.co.jp/gp/help/customer/display.html?ie=UTF8&nodeId=642946&ref_=footer_paymenthelp',\n",
       " 'https://www.amazon.co.jp/product-reviews/B072J2J26T/ref=zg_bs_videogames_cr_24/357-3456137-5371151?ie=UTF8&refRID=EEAHVJ63B5C7S16AFCFN',\n",
       " 'https://www.amazon.co.jp/product-reviews/B083FBFQ7T/ref=zg_bs_videogames_cr_31/357-3456137-5371151?ie=UTF8&refRID=EEAHVJ63B5C7S16AFCFN',\n",
       " 'https://www.amazon.co.jp/b/?ie=UTF8&node=4731377051&ref_=sv_vg_6',\n",
       " 'https://www.amazon.co.jp/%E4%BB%BB%E5%A4%A9%E5%A0%82-%E3%81%82%E3%81%A4%E3%81%BE%E3%82%8C-%E3%81%A9%E3%81%86%E3%81%B6%E3%81%A4%E3%81%AE%E6%A3%AE-Switch/dp/B084HPGQ9W/ref=zg_bs_videogames_1/357-3456137-5371151?_encoding=UTF8&psc=1&refRID=EEAHVJ63B5C7S16AFCFN',\n",
       " 'https://www.amazon.co.jp/Nintendo-Switch%E7%94%A8-%E4%BB%BB%E5%A4%A9%E5%A0%82%E3%83%8B%E3%83%B3%E3%83%86%E3%83%B3%E3%83%89%E3%83%BC-%E3%83%96%E3%83%AB%E3%83%BC%E3%83%A9%E3%82%A4%E3%83%88%E3%82%AB%E3%83%83%E3%83%88-3D%E3%83%A9%E3%82%A6%E3%83%B3%E3%83%89%E3%82%A8%E3%83%83%E3%82%B8%E5%8A%A0%E5%B7%A5/dp/B083FBFQ7T/ref=zg_bs_videogames_31/357-3456137-5371151?_encoding=UTF8&psc=1&refRID=EEAHVJ63B5C7S16AFCFN',\n",
       " 'https://www.amazon.co.jp/product-reviews/B07T94PDF7/ref=zg_bs_videogames_cr_43/357-3456137-5371151?ie=UTF8&refRID=EEAHVJ63B5C7S16AFCFN',\n",
       " 'https://www.amazon.co.jp/product-reviews/B07PP7889B/ref=zg_bs_videogames_cr_27/357-3456137-5371151?ie=UTF8&refRID=EEAHVJ63B5C7S16AFCFN',\n",
       " 'https://www.amazon.co.jp/product-reviews/B07VGPSM7T/ref=zg_bs_videogames_cr_7/357-3456137-5371151?ie=UTF8&refRID=EEAHVJ63B5C7S16AFCFN',\n",
       " 'https://www.amazon.co.jp/product-reviews/B071GBFYT4/ref=zg_bs_videogames_cr_15/357-3456137-5371151?ie=UTF8&refRID=EEAHVJ63B5C7S16AFCFN',\n",
       " 'https://www.amazon.co.jp/product-reviews/B07PPZQXV4/ref=zg_bs_videogames_cr_29/357-3456137-5371151?ie=UTF8&refRID=EEAHVJ63B5C7S16AFCFN',\n",
       " 'https://www.amazon.co.jp/PlayStation-%E3%82%B8%E3%82%A7%E3%83%83%E3%83%88%E3%83%BB%E3%83%96%E3%83%A9%E3%83%83%E3%82%AF-500GB-CUH-2200AB01-%E3%81%8A%E5%A5%BD%E3%81%8D%E3%81%AA%E3%83%80%E3%82%A6%E3%83%B3%E3%83%AD%E3%83%BC%E3%83%89%E3%82%BD%E3%83%95%E3%83%882%E6%9C%AC%E3%82%BB%E3%83%83%E3%83%88/dp/B07F76K6FJ/ref=zg_bs_videogames_37/357-3456137-5371151?_encoding=UTF8&psc=1&refRID=EEAHVJ63B5C7S16AFCFN',\n",
       " 'https://www.amazon.co.jp/gp/digital/fiona/manage?ie=UTF8&ref_=footer_myk',\n",
       " 'https://www.amazon.co.jp/product-reviews/B01N7TGKYE/ref=zg_bs_videogames_cr_22/357-3456137-5371151?ie=UTF8&refRID=EEAHVJ63B5C7S16AFCFN',\n",
       " 'https://www.amazon.co.jp/%E3%82%BC%E3%83%AB%E3%83%80%E3%81%AE%E4%BC%9D%E8%AA%AC-%E3%83%96%E3%83%AC%E3%82%B9-%E3%82%AA%E3%83%96-%E3%83%AF%E3%82%A4%E3%83%AB%E3%83%89-Switch/dp/B01N12HJHQ/ref=zg_bs_videogames_45/357-3456137-5371151?_encoding=UTF8&psc=1&refRID=EEAHVJ63B5C7S16AFCFN',\n",
       " 'https://www.amazon.co.jp/b?ie=UTF8&node=2761807051&ref_=footer_gw_m_b_ourcomm',\n",
       " 'https://www.amazon.co.jp/Amazon%E3%83%9D%E3%82%A4%E3%83%B3%E3%83%88/b?ie=UTF8&node=2632478051&ref_=footer_point',\n",
       " 'https://www.amazon.co.jp/b?ie=UTF8&node=2761990051&ref_=footer_wrhsdls',\n",
       " 'https://www.amazon.co.jp/gp/browse.html?node=3485873051&ref_=nav_cs_pantry',\n",
       " 'https://www.amazon.co.jp/Joy-con%E5%AF%BE%E5%BF%9C-%E3%82%BB%E3%83%B3%E3%82%B5%E3%83%BC%E3%82%A2%E3%83%8A%E3%83%AD%E3%82%B0%E3%82%B8%E3%83%A7%E3%82%A4%E3%82%B9%E3%83%86%E3%82%A3%E3%83%83%E3%82%AF-%E3%83%8B%E3%83%B3%E3%83%86%E3%83%B3%E3%83%89%E3%83%BC%E3%82%B9%E3%82%A4%E3%83%83%E3%83%81-Joy-con%E7%94%A8-%E3%82%B3%E3%83%B3%E3%83%88%E3%83%AD%E3%83%BC%E3%83%AB-%E4%BF%AE%E7%90%86%E3%83%84%E3%83%BC%E3%83%AB%E4%BB%98/dp/B07QY6XZ5X/ref=zg_bs_videogames_12/357-3456137-5371151?_encoding=UTF8&psc=1&refRID=EEAHVJ63B5C7S16AFCFN',\n",
       " 'https://www.amazon.co.jp/dp/B07XV8VSZT/ref=zg_bs_videogames_4/357-3456137-5371151?_encoding=UTF8&psc=1&refRID=EEAHVJ63B5C7S16AFCFN',\n",
       " 'https://www.amazon.co.jp/Amazon-Video/b/?ie=UTF8&node=2351649051&ref_=nav_cs_prime_video',\n",
       " 'https://www.amazon.co.jp/prime?ref_=nav_prime_try_btn',\n",
       " 'https://www.amazon.co.jp/gp/rewards/ref=topnav_sc_pt_bal_unrec/357-3456137-5371151',\n",
       " 'https://www.amazon.co.jp/%E4%BB%BB%E5%A4%A9%E5%A0%82-Nintendo-Switch%E5%85%85%E9%9B%BB%E3%82%B9%E3%82%BF%E3%83%B3%E3%83%89-%E3%83%95%E3%83%AA%E3%83%BC%E3%82%B9%E3%83%88%E3%83%83%E3%83%97%E5%BC%8F/dp/B07D4R5GBJ/ref=zg_bs_videogames_48/357-3456137-5371151?_encoding=UTF8&psc=1&refRID=EEAHVJ63B5C7S16AFCFN',\n",
       " 'https://www.amazon.co.jp/%E4%BB%BB%E5%A4%A9%E5%A0%82-%E3%83%9E%E3%83%AA%E3%82%AA%E3%82%AB%E3%83%BC%E3%83%888-%E3%83%87%E3%83%A9%E3%83%83%E3%82%AF%E3%82%B9-Switch/dp/B01N12G06K/ref=zg_bs_videogames_8/357-3456137-5371151?_encoding=UTF8&psc=1&refRID=EEAHVJ63B5C7S16AFCFN',\n",
       " 'https://www.amazon.co.jp/%E3%82%B2%E3%83%BC%E3%83%9F%E3%83%B3%E3%82%B0%E3%83%98%E3%83%83%E3%83%89%E3%82%BB%E3%83%83%E3%83%88-%E3%83%AD%E3%82%B8%E3%82%AF%E3%83%BC%E3%83%AB-G433BK-Nintendo-Switch/dp/B071GBFYT4/ref=zg_bs_videogames_15/357-3456137-5371151?_encoding=UTF8&psc=1&refRID=EEAHVJ63B5C7S16AFCFN',\n",
       " 'https://www.amazon.co.jp/MasterCard_%E3%83%9E%E3%82%B9%E3%82%BF%E3%83%BC%E3%82%AB%E3%83%BC%E3%83%89_/b?ie=UTF8&node=3036192051&plattr=JBCBCCFT&ref_=footer_pay_jp_cbcc',\n",
       " 'https://www.amazon.co.jp/product-reviews/B01MTASBY4/ref=zg_bs_videogames_cr_40/357-3456137-5371151?ie=UTF8&refRID=EEAHVJ63B5C7S16AFCFN',\n",
       " 'https://www.amazon.co.jp/%E3%83%8B%E3%83%A5%E3%83%BC%E3%83%AA%E3%83%AA%E3%83%BC%E3%82%B9-%E3%82%B2%E3%83%BC%E3%83%A0/b/?ie=UTF8&node=637830&ref_=sv_vg_1',\n",
       " 'https://www.amazon.co.jp/%E4%BB%BB%E5%A4%A9%E5%A0%82-%E3%83%9E%E3%83%AA%E3%82%AA%E3%82%AB%E3%83%BC%E3%83%888-%E3%83%87%E3%83%A9%E3%83%83%E3%82%AF%E3%82%B9-%E3%82%AA%E3%83%B3%E3%83%A9%E3%82%A4%E3%83%B3%E3%82%B3%E3%83%BC%E3%83%89%E7%89%88/dp/B01MTASBY4/ref=zg_bs_videogames_40/357-3456137-5371151?_encoding=UTF8&psc=1&refRID=EEAHVJ63B5C7S16AFCFN',\n",
       " 'https://www.amazon.co.jp/gp/help/customer/display.html?ie=UTF8&nodeId=201047280&ref_=footer_iba',\n",
       " 'https://www.amazon.co.jp/%E3%83%81%E3%83%A3%E3%83%BC%E3%82%B8%E3%82%AE%E3%83%95%E3%83%88%E5%88%B8/b?ie=UTF8&node=3491801051&ref_=footer_topup_jp',\n",
       " 'https://www.amazon.co.jp/product-reviews/B07DPDDP5V/ref=zg_bs_videogames_cr_35/357-3456137-5371151?ie=UTF8&refRID=EEAHVJ63B5C7S16AFCFN',\n",
       " 'https://www.amazon.co.jp/dp/B07WS7BZYF/ref=zg_bs_videogames_17/357-3456137-5371151?_encoding=UTF8&psc=1&refRID=EEAHVJ63B5C7S16AFCFN',\n",
       " 'https://www.amazon.co.jp/b?ie=UTF8&node=5695748051&ref_=JP_AB_ONS_GW_FOO',\n",
       " 'https://www.amazon.co.jp/product-reviews/B01MY9I55F/ref=zg_bs_videogames_cr_21/357-3456137-5371151?ie=UTF8&refRID=EEAHVJ63B5C7S16AFCFN',\n",
       " 'https://www.amazon.co.jp/product-reviews/B01NCX3W3O/ref=zg_bs_videogames_cr_3/357-3456137-5371151?ie=UTF8&refRID=EEAHVJ63B5C7S16AFCFN',\n",
       " 'https://www.amazon.co.jp/Joy-Con-L-%E3%83%8D%E3%82%AA%E3%83%B3%E3%83%91%E3%83%BC%E3%83%97%E3%83%AB-R-%E3%83%8D%E3%82%AA%E3%83%B3%E3%82%AA%E3%83%AC%E3%83%B3%E3%82%B8/dp/B07VGPSM7T/ref=zg_bs_videogames_7/357-3456137-5371151?_encoding=UTF8&psc=1&refRID=EEAHVJ63B5C7S16AFCFN',\n",
       " 'https://www.amazon.co.jp/Nintendo-%E3%83%96%E3%83%AB%E3%83%BC%E3%83%A9%E3%82%A4%E3%83%88%E3%82%AB%E3%83%83%E3%83%88-%E6%97%AD%E7%A1%9D%E5%AD%90%E4%BB%95%E6%A7%98%E3%83%A2%E3%83%87%E3%83%AB-60%E6%97%A5%E9%96%93%E4%BA%A4%E6%8F%9B%E5%AF%BE%E5%BF%9C-Excitech/dp/B078Y8QM6N/ref=zg_bs_videogames_20/357-3456137-5371151?_encoding=UTF8&psc=1&refRID=EEAHVJ63B5C7S16AFCFN',\n",
       " 'https://www.amazon.co.jp/product-reviews/B07X779ZK5/ref=zg_bs_videogames_cr_30/357-3456137-5371151?ie=UTF8&refRID=EEAHVJ63B5C7S16AFCFN',\n",
       " 'https://www.amazon.co.jp/RZ04-02830200-R3M-Razer-Kraken-green/dp/B07PP7889B/ref=zg_bs_videogames_27/357-3456137-5371151?_encoding=UTF8&psc=1&refRID=EEAHVJ63B5C7S16AFCFN',\n",
       " 'https://www.amazon.co.jp/AmazonGlobal-AmazonJapan/b?ie=UTF8&node=3534638051&ref_=footer_global',\n",
       " 'https://www.amazon.co.jp/product-reviews/B07WXL5YPW/ref=zg_bs_videogames_cr_9/357-3456137-5371151?ie=UTF8&refRID=EEAHVJ63B5C7S16AFCFN',\n",
       " 'https://www.amazon.co.jp/gp/css/order-history?ref_=nav_orders_first',\n",
       " 'https://www.amazon.co.jp/gp/help/customer/display.html?ie=UTF8&nodeId=643000&ref_=footer_privacy',\n",
       " 'https://www.amazon.co.jp/gp/gc?ie=UTF8&ref_=footer_gc',\n",
       " 'https://www.amazon.co.jp/%E3%80%90%E6%97%A5%E6%9C%AC%E5%B8%82%E5%A0%B4%E5%90%91%E3%81%91%E3%80%91%E3%80%90%E5%AE%9F%E5%AE%B9%E9%87%8F%E9%AB%98%E3%80%91-PSP2000-PSP-S110-%E3%83%90%E3%83%83%E3%83%86%E3%83%AA%E3%83%BC%E3%83%91%E3%83%83%E3%82%AF-%E3%80%90%E3%83%AD%E3%83%AF%E3%82%B8%E3%83%A3%E3%83%91%E3%83%B3PSE%E3%83%9E%E3%83%BC%E3%82%AF%E3%80%91/dp/B002HUWGJY/ref=zg_bs_videogames_44/357-3456137-5371151?_encoding=UTF8&psc=1&refRID=EEAHVJ63B5C7S16AFCFN',\n",
       " 'https://www.amazon.co.jp/PSVITA/b/?ie=UTF8&node=2280006051&ref_=sv_vg_8',\n",
       " 'https://www.amazon.co.jp/product-reviews/B07V5DY94M/ref=zg_bs_videogames_cr_6/357-3456137-5371151?ie=UTF8&refRID=EEAHVJ63B5C7S16AFCFN',\n",
       " 'https://www.amazon.co.jp/product-reviews/B07QY6XZ5X/ref=zg_bs_videogames_cr_12/357-3456137-5371151?ie=UTF8&refRID=EEAHVJ63B5C7S16AFCFN',\n",
       " 'https://www.amazon.co.jp/%E3%83%8B%E3%83%B3%E3%83%86%E3%83%B3%E3%83%89%E3%83%BC3DS-AC%E3%82%A2%E3%83%80%E3%83%97%E3%82%BF%E3%83%BC-New2DSLL-New3DS-New3DSLL/dp/B001KZGZVW/ref=zg_bs_videogames_25/357-3456137-5371151?_encoding=UTF8&psc=1&refRID=EEAHVJ63B5C7S16AFCFN',\n",
       " 'https://www.amazon.co.jp/gp/video/primesignup/?ie=UTF8&ref_=nav_swm_dvm_jp_pl_cs_pw_swm_np_all_symphonyever&pf_rd_p=d4041132-650b-40ce-91b3-8e1fc77fddbd&pf_rd_s=nav-sitewide-msg&pf_rd_t=4201&pf_rd_i=navbar-4201&pf_rd_m=A1VC38T7YXB528&pf_rd_r=EEAHVJ63B5C7S16AFCFN',\n",
       " 'https://www.amazon.co.jp/gp/help/customer/display.html?ie=UTF8&nodeId=642982&ref_=footer_shiprates',\n",
       " 'https://www.amazon.co.jp/ref=nav_logo',\n",
       " 'https://www.amazon.co.jp/Xenoblade-Definitive-%E3%82%BC%E3%83%8E%E3%83%96%E3%83%AC%E3%82%A4%E3%83%89-%E3%83%87%E3%82%A3%E3%83%95%E3%82%A7%E3%83%8B%E3%83%86%E3%82%A3%E3%83%96-Switch/dp/B077QN8Y1D/ref=zg_bs_videogames_26/357-3456137-5371151?_encoding=UTF8&psc=1&refRID=EEAHVJ63B5C7S16AFCFN',\n",
       " 'https://www.amazon.co.jp/2%E6%9E%9A%E5%85%A5%E3%82%8Afor-Nintendo-Switch-%E5%BC%B7%E5%8C%96%E3%82%AC%E3%83%A9%E3%82%B9-%E3%83%96%E3%83%AB%E3%83%BC%E3%83%A9%E3%82%A4%E3%83%88/dp/B07PPZQXV4/ref=zg_bs_videogames_29/357-3456137-5371151?_encoding=UTF8&psc=1&refRID=EEAHVJ63B5C7S16AFCFN',\n",
       " 'https://www.amazon.co.jp/%E3%83%98%E3%83%AB%E3%83%97/b/?ie=UTF8&node=642938&ref_=nav_cs_help',\n",
       " 'https://www.amazon.co.jp/%E4%BB%BB%E5%A4%A9%E5%A0%82-%E3%82%B9%E3%83%BC%E3%83%91%E3%83%BC-%E3%83%9E%E3%83%AA%E3%82%AA%E3%83%91%E3%83%BC%E3%83%86%E3%82%A3-Switch/dp/B07DPDDP5V/ref=zg_bs_videogames_35/357-3456137-5371151?_encoding=UTF8&psc=1&refRID=EEAHVJ63B5C7S16AFCFN',\n",
       " 'https://www.amazon.co.jp/gp/goldbox?ref_=nav_cs_gb',\n",
       " 'https://www.amazon.co.jp/DinoFire-%E4%BB%BB%E5%A4%A9%E5%A0%82switch-%E5%8D%8A%E9%80%8F%E6%98%8EBluetooth%E6%8E%A5%E7%B6%9A-%E3%83%97%E3%83%AD%E3%82%B3%E3%83%B3%E3%83%88%E3%83%AD%E3%83%BC%E3%83%A9%E3%83%BC-%E5%85%AD%E8%BB%B8%E3%82%B8%E3%83%A3%E3%82%A4%E3%83%AD%E3%82%BB%E3%83%B3%E3%82%B5%E3%83%BC%E6%90%AD%E8%BC%89/dp/B085RSHWHJ/ref=zg_bs_videogames_49/357-3456137-5371151?_encoding=UTF8&psc=1&refRID=EEAHVJ63B5C7S16AFCFN',\n",
       " 'https://www.amazon.co.jp/Amazon%E3%83%9D%E3%82%A4%E3%83%B3%E3%83%88/b/ref=topnav_sc_pt_unrec/357-3456137-5371151?ie=UTF8&node=2632478051',\n",
       " 'https://www.amazon.co.jp/product-reviews/B07D131MS4/ref=zg_bs_videogames_cr_23/357-3456137-5371151?ie=UTF8&refRID=EEAHVJ63B5C7S16AFCFN',\n",
       " 'https://www.amazon.co.jp/product-reviews/B001KZGZVW/ref=zg_bs_videogames_cr_25/357-3456137-5371151?ie=UTF8&refRID=EEAHVJ63B5C7S16AFCFN',\n",
       " 'https://www.amazon.co.jp/%E4%BB%BB%E5%A4%A9%E5%A0%82-orjinaljoycongrip-Joy-Con%E5%85%85%E9%9B%BB%E3%82%B0%E3%83%AA%E3%83%83%E3%83%97/dp/B01N7TGKYE/ref=zg_bs_videogames_22/357-3456137-5371151?_encoding=UTF8&psc=1&refRID=EEAHVJ63B5C7S16AFCFN',\n",
       " 'https://www.amazon.co.jp/gp/BIT/ref=footer_bit_v2_j0012?bitCampaignCode=j0012',\n",
       " 'https://www.amazon.co.jp/FPS-Freek-Vortex-Playstation-%E4%B8%A6%E8%A1%8C%E8%BC%B8%E5%85%A5%E5%93%81/dp/B01ASAGUL4/ref=zg_bs_videogames_18/357-3456137-5371151?_encoding=UTF8&psc=1&refRID=EEAHVJ63B5C7S16AFCFN',\n",
       " 'https://www.amazon.co.jp/%E3%82%AF%E3%83%AC%E3%82%B8%E3%83%83%E3%83%88%E3%82%AB%E3%83%BC%E3%83%89/b?ie=UTF8&node=2113286051&plattr=JBCCMPFT&ref_=footer_pay_jp_ccmp',\n",
       " 'https://www.amazon.co.jp/product-reviews/B01ASBS9IU/ref=zg_bs_videogames_cr_32/357-3456137-5371151?ie=UTF8&refRID=EEAHVJ63B5C7S16AFCFN',\n",
       " 'https://www.amazon.co.jp/PC%E5%91%A8%E8%BE%BA%E6%A9%9F%E5%99%A8-%E3%83%91%E3%82%BD%E3%82%B3%E3%83%B3%E5%91%A8%E8%BE%BA%E6%A9%9F%E5%99%A8-%E9%80%9A%E8%B2%A9/b/?ie=UTF8&node=2127209051&ref_=nav_cs_pc',\n",
       " 'https://www.amazon.co.jp/product-reviews/B002HUWGJY/ref=zg_bs_videogames_cr_44/357-3456137-5371151?ie=UTF8&refRID=EEAHVJ63B5C7S16AFCFN',\n",
       " 'https://www.amazon.co.jp/gp/navigation/redirector.html/ref=sign-in-redirect?ie=UTF8&associationHandle=jpflex&currentPageURL=https%3A%2F%2Fwww.amazon.co.jp%2Fgp%2Fbestsellers%2Fvideogames%2F%3Fref_%3Dnav_custrec_signin&pageType=zeitgeist&switchAccount=&yshURL=https%3A%2F%2Fwww.amazon.co.jp%2Fgp%2Fyourstore%2Fhome%3Fie%3DUTF8%26ref_%3Dnav_custrec_signin',\n",
       " 'https://www.amazon.co.jp/XboxOne/b/?ie=UTF8&node=2540971051&ref_=sv_vg_7',\n",
       " 'https://www.amazon.co.jp/product-reviews/B085GGZ2RD/ref=zg_bs_videogames_cr_36/357-3456137-5371151?ie=UTF8&refRID=EEAHVJ63B5C7S16AFCFN',\n",
       " 'https://www.amazon.co.jp/b?ie=UTF8&node=5578935051&ref_=navfooter_267319_t1',\n",
       " 'https://www.amazon.co.jp/%E4%BB%BB%E5%A4%A9%E5%A0%82-Nintendo-Switch-Lite-%E3%82%A4%E3%82%A8%E3%83%AD%E3%83%BC/dp/B07X24S7DY/ref=zg_bs_videogames_47/357-3456137-5371151?_encoding=UTF8&psc=1&refRID=EEAHVJ63B5C7S16AFCFN',\n",
       " 'https://www.amazon.co.jp/gp/help/customer/display.html?ie=UTF8&nodeId=508510&ref_=footer_help',\n",
       " 'https://www.amazon.co.jp/gp/prime/ref=nav_prime_ajax_err/357-3456137-5371151',\n",
       " 'https://www.amazon.co.jp/stores/node/2322333051/?ref_=nav_cs_amazonbasics',\n",
       " 'https://www.amazon.co.jp/ref=footer_logo',\n",
       " 'https://www.amazon.co.jp/%E5%B0%8F%E5%9E%8B6%E8%BB%B8%E3%82%B8%E3%83%A3%E3%82%A4%E3%83%AD%E3%82%BB%E3%83%B3%E3%82%B5%E3%83%BC%E6%90%AD%E8%BC%89-%E3%82%B9%E3%82%A4%E3%83%83%E3%83%81%E3%82%B3%E3%83%B3%E3%83%88%E3%83%AD%E3%83%BC%E3%83%A9%E3%83%BCTURBO%E9%80%A3%E5%B0%84%E6%A9%9F%E8%83%BD%E4%BB%98%E3%81%8D-%E3%82%B8%E3%83%A3%E3%82%A4%E3%83%AD%E3%82%BB%E3%83%B3%E3%82%B5%E3%83%BC-Bluetooth%E6%8E%A5%E7%B6%9A-%E3%82%B9%E3%82%A4%E3%83%83%E3%83%81%E3%81%AE%E5%85%A8%E3%81%A6%E3%82%B7%E3%82%B9%E3%83%86%E3%83%A0%E3%81%AB%E5%AF%BE%E5%BF%9C/dp/B07V5DY94M/ref=zg_bs_videogames_6/357-3456137-5371151?_encoding=UTF8&psc=1&refRID=EEAHVJ63B5C7S16AFCFN',\n",
       " 'https://www.amazon.co.jp/product-reviews/B07YL2WCL8/ref=zg_bs_videogames_cr_13/357-3456137-5371151?ie=UTF8&refRID=EEAHVJ63B5C7S16AFCFN',\n",
       " 'https://www.amazon.co.jp/%E3%83%AC%E3%83%88%E3%83%AD%E3%82%B2%E3%83%BC%E3%83%A0-%E3%82%B9%E3%83%88%E3%82%A2/b/?ie=UTF8&node=1162626&ref_=sv_vg_13',\n",
       " 'https://www.amazon.co.jp/%E6%9D%B1%E5%8C%97%E5%A4%A7%E5%AD%A6%E5%8A%A0%E9%BD%A2%E5%8C%BB%E5%AD%A6%E7%A0%94%E7%A9%B6%E6%89%80-%E5%B7%9D%E5%B3%B6%E9%9A%86%E5%A4%AA%E6%95%99%E6%8E%88%E7%9B%A3%E4%BF%AE-%E8%84%B3%E3%82%92%E9%8D%9B%E3%81%88%E3%82%8B%E5%A4%A7%E4%BA%BA%E3%81%AENintendo-Switch%E3%83%88%E3%83%AC%E3%83%BC%E3%83%8B%E3%83%B3%E3%82%B0-%E3%82%BF%E3%83%83%E3%83%81%E3%83%9A%E3%83%B3%E4%BB%98%E3%81%8D/dp/B07YL2WCL8/ref=zg_bs_videogames_13/357-3456137-5371151?_encoding=UTF8&psc=1&refRID=EEAHVJ63B5C7S16AFCFN',\n",
       " 'https://www.amazon.co.jp/product-reviews/B01ASAGUL4/ref=zg_bs_videogames_cr_18/357-3456137-5371151?ie=UTF8&refRID=EEAHVJ63B5C7S16AFCFN',\n",
       " 'https://www.amazon.co.jp/product-reviews/B078Y8QM6N/ref=zg_bs_videogames_cr_20/357-3456137-5371151?ie=UTF8&refRID=EEAHVJ63B5C7S16AFCFN',\n",
       " 'https://www.amazon.co.jp/product-reviews/B07X24S7DY/ref=zg_bs_videogames_cr_47/357-3456137-5371151?ie=UTF8&refRID=EEAHVJ63B5C7S16AFCFN',\n",
       " 'https://www.amazon.co.jp/%E3%80%90PS4%E3%80%91Ghost-%E3%80%90%E6%97%A9%E6%9C%9F%E8%B3%BC%E5%85%A5%E7%89%B9%E5%85%B8%E3%80%91%E3%83%87%E3%82%B8%E3%82%BF%E3%83%AB-%E3%83%9F%E3%83%8B%E3%82%B5%E3%82%A6%E3%83%B3%E3%83%89%E3%83%88%E3%83%A9%E3%83%83%E3%82%AF-%E3%83%BB%E3%80%8C%E4%BB%81%E3%80%8D%E3%83%80%E3%82%A4%E3%83%8A%E3%83%9F%E3%83%83%E3%82%AF%E3%83%86%E3%83%BC%E3%83%9E-%E3%80%90CERO%E3%83%AC%E3%83%BC%E3%83%86%E3%82%A3%E3%83%B3%E3%82%B0%E3%80%8CZ%E3%80%8D%E3%80%91/dp/B085K45JDB/ref=zg_bs_videogames_41/357-3456137-5371151?_encoding=UTF8&psc=1&refRID=EEAHVJ63B5C7S16AFCFN',\n",
       " 'https://www.amazon.co.jp/TV%E3%82%B2%E3%83%BC%E3%83%A0/b/?ie=UTF8&node=637394&ref_=topnav_storetab_vg',\n",
       " 'https://www.amazon.co.jp/Joy-con%E5%AF%BE%E5%BF%9C-%E3%82%BB%E3%83%B3%E3%82%B5%E3%83%BC%E3%82%A2%E3%83%8A%E3%83%AD%E3%82%B0%E3%82%B8%E3%83%A7%E3%82%A4%E3%82%B9%E3%83%86%E3%82%A3%E3%83%83%E3%82%AF-%E3%83%8B%E3%83%B3%E3%83%86%E3%83%B3%E3%83%89%E3%83%BC%E3%82%B9%E3%82%A4%E3%83%83%E3%83%81-Joy-con%E7%94%A8-%E3%82%B3%E3%83%B3%E3%83%88%E3%83%AD%E3%83%BC%E3%83%AB-%E4%BF%AE%E7%90%86%E3%83%84%E3%83%BC%E3%83%AB%E4%BB%98/dp/B07NVQMLCK/ref=zg_bs_videogames_46/357-3456137-5371151?_encoding=UTF8&psc=1&refRID=EEAHVJ63B5C7S16AFCFN',\n",
       " 'https://www.amazon.co.jp/product-reviews/B07DDGPCPR/ref=zg_bs_videogames_cr_39/357-3456137-5371151?ie=UTF8&refRID=EEAHVJ63B5C7S16AFCFN',\n",
       " 'https://www.amazon.co.jp/PS4%E3%83%97%E3%83%AC%E3%82%A4%E3%82%B9%E3%83%86%E3%83%BC%E3%82%B7%E3%83%A7%E3%83%B34/b/?ie=UTF8&node=2494234051&ref_=sv_vg_5',\n",
       " 'https://www.amazon.co.jp/product-reviews/B07XV8VSZT/ref=zg_bs_videogames_cr_4/357-3456137-5371151?ie=UTF8&refRID=EEAHVJ63B5C7S16AFCFN',\n",
       " 'https://www.amazon.co.jp/%E3%80%902020%E6%94%B9%E8%89%AF%E7%89%88%E3%80%91RegeMoudal-Bluetooth-%E6%9C%80%E6%96%B0switch%E3%82%B7%E3%82%B9%E3%83%86%E3%83%A08-0-1%E5%AF%BE%E5%BF%9C-6%E8%BB%B8%E3%82%B8%E3%83%A3%E3%82%A4%E3%83%AD%E3%82%BB%E3%83%B3%E3%82%B5%E3%83%BC%E6%90%AD%E8%BC%89-TURBO%E9%80%A3%E5%B0%84%E6%A9%9F%E8%83%BD%E4%BB%98%E3%81%8D/dp/B082NZWDN5/ref=zg_bs_videogames_34/357-3456137-5371151?_encoding=UTF8&psc=1&refRID=EEAHVJ63B5C7S16AFCFN',\n",
       " 'https://www.amazon.co.jp/product-reviews/B082NZWDN5/ref=zg_bs_videogames_cr_34/357-3456137-5371151?ie=UTF8&refRID=EEAHVJ63B5C7S16AFCFN',\n",
       " 'https://www.amazon.co.jp/gp/help/customer/display.html?ie=UTF8&nodeId=GDFU3JS5AL6SYHRD&ref_=footer_covid',\n",
       " 'https://www.amazon.co.jp/product-reviews/B07D4R5GBJ/ref=zg_bs_videogames_cr_48/357-3456137-5371151?ie=UTF8&refRID=EEAHVJ63B5C7S16AFCFN',\n",
       " 'https://www.amazon.co.jp/product-reviews/B07HG6HC3H/ref=zg_bs_videogames_cr_10/357-3456137-5371151?ie=UTF8&refRID=EEAHVJ63B5C7S16AFCFN',\n",
       " 'https://www.amazon.co.jp/b/?_encoding=UTF8&ld=AZJPSOAMM&node=2293760051&ref_=footer_seeall',\n",
       " 'https://www.amazon.co.jp/ranking?type=top-sellers&ref_=nav_cs_bestsellers',\n",
       " 'https://www.amazon.co.jp/product-reviews/B07PWQN46J/ref=zg_bs_videogames_cr_19/357-3456137-5371151?ie=UTF8&refRID=EEAHVJ63B5C7S16AFCFN',\n",
       " 'https://www.amazon.co.jp/%E4%BB%BB%E5%A4%A9%E5%A0%82-Splatoon-2-%E3%82%B9%E3%83%97%E3%83%A9%E3%83%88%E3%82%A5%E3%83%BC%E3%83%B32-Switch/dp/B072J2J26T/ref=zg_bs_videogames_24/357-3456137-5371151?_encoding=UTF8&psc=1&refRID=EEAHVJ63B5C7S16AFCFN',\n",
       " 'https://www.amazon.co.jp/gp/bestsellers/videogames/uedata/unsticky/357-3456137-5371151/zeitgeist/ntpoffrw?tepes=1&id=EEAHVJ63B5C7S16AFCFN',\n",
       " 'https://www.amazon.co.jp/product-reviews/B01N12HJHQ/ref=zg_bs_videogames_cr_45/357-3456137-5371151?ie=UTF8&refRID=EEAHVJ63B5C7S16AFCFN',\n",
       " 'https://www.amazon.co.jp/dp/B07X779ZK5/ref=zg_bs_videogames_30/357-3456137-5371151?_encoding=UTF8&psc=1&refRID=EEAHVJ63B5C7S16AFCFN',\n",
       " 'https://www.amazon.co.jp/product-reviews/B01N12G06K/ref=zg_bs_videogames_cr_8/357-3456137-5371151?ie=UTF8&refRID=EEAHVJ63B5C7S16AFCFN',\n",
       " 'https://www.amazon.co.jp/product-reviews/B085RSHWHJ/ref=zg_bs_videogames_cr_49/357-3456137-5371151?ie=UTF8&refRID=EEAHVJ63B5C7S16AFCFN',\n",
       " 'https://www.amazon.co.jp/product-reviews/B07FDW61HX/ref=zg_bs_videogames_cr_16/357-3456137-5371151?ie=UTF8&refRID=EEAHVJ63B5C7S16AFCFN',\n",
       " 'https://www.amazon.co.jp/%E3%83%89%E3%83%A9%E3%83%83%E3%82%B0%E3%82%B9%E3%83%88%E3%82%A2-%E3%82%B5%E3%83%97%E3%83%AA%E3%83%A1%E3%83%B3%E3%83%88-%E6%97%A5%E7%94%A8%E5%93%81-%E5%8C%BB%E8%96%AC%E5%93%81-%E9%80%9A%E8%B2%A9/b/?ie=UTF8&node=160384011&ref_=nav_cs_hpc',\n",
       " 'https://www.amazon.co.jp/ranking?type=new-releases&ref_=nav_cs_newreleases',\n",
       " 'https://www.amazon.co.jp/gp/subs/primeclub/signup/main.html?ie=UTF8&ref_=footer_prime',\n",
       " 'https://www.amazon.co.jp/%E3%80%8C3%E6%9E%9A%E5%85%A5%E3%82%8A%E3%80%8DNintendo-Switch-%E4%BF%9D%E8%AD%B7%E3%83%95%E3%82%A3%E3%83%AB%E3%83%A0-iVoler-%E5%B0%82%E7%94%A8%E5%BC%B7%E5%8C%96-%E3%82%AC%E3%83%A9%E3%82%B9%E3%83%95%E3%82%A3%E3%83%AB%E3%83%A0%E3%80%8C%E6%97%A5%E6%9C%AC%E7%A1%9D%E5%AD%90%E7%B4%A0%E6%9D%90%E3%80%8D%E3%80%8C%E3%83%A9%E3%82%A6%E3%83%B3%E3%83%89%E3%82%A8%E3%83%83%E3%82%B8%E5%8A%A0%E5%B7%A5%E3%80%8D-%E9%AB%98%E9%80%8F%E9%81%8E%E7%8E%87-%E3%82%AC%E3%83%A9%E3%82%B9%E9%A3%9B%E6%95%A3%E9%98%B2%E6%AD%A2/dp/B07KBHM7J1/ref=zg_bs_videogames_38/357-3456137-5371151?_encoding=UTF8&psc=1&refRID=EEAHVJ63B5C7S16AFCFN',\n",
       " 'https://www.amazon.co.jp/%E6%9C%AC-%E6%9B%B8%E7%B1%8D-%E9%80%9A%E8%B2%A9/b/?ie=UTF8&node=465392&ref_=nav_cs_books',\n",
       " 'https://www.amazon.co.jp/product-reviews/B07SFY368H/ref=zg_bs_videogames_cr_5/357-3456137-5371151?ie=UTF8&refRID=EEAHVJ63B5C7S16AFCFN',\n",
       " 'https://www.amazon.co.jp/b/?node=3550438051&ref_=nav_cs_coupons',\n",
       " 'https://www.amazon.co.jp/gp/help/customer/display.html?ie=UTF8&nodeId=643006&ref_=footer_cou',\n",
       " 'https://www.amazon.co.jp/%E3%80%90PS4%E3%80%91-Last-II%E3%80%90%E6%97%A9%E6%9C%9F%E8%B3%BC%E5%85%A5%E7%89%B9%E5%85%B8%E3%80%91%E3%82%B2%E3%83%BC%E3%83%A0%E5%86%85%E3%82%A2%E3%82%A4%E3%83%86%E3%83%A0-%E3%83%BB%E3%80%8C%E8%A3%85%E5%BC%BE%E6%95%B0%E5%A2%97%E5%8A%A0%E3%80%8D-%E3%83%BB%E3%80%8C%E5%B7%A5%E4%BD%9C%E3%82%B5%E3%83%90%E3%82%A4%E3%83%90%E3%83%AB%E3%82%AC%E3%82%A4%E3%83%89%E3%80%8D/dp/B07YC9WLXD/ref=zg_bs_videogames_11/357-3456137-5371151?_encoding=UTF8&psc=1&refRID=EEAHVJ63B5C7S16AFCFN',\n",
       " 'https://www.amazon.co.jp/Amazon%E3%81%AE%E7%92%B0%E5%A2%83%E3%81%B8%E3%81%AE%E5%8F%96%E3%82%8A%E7%B5%84%E3%81%BF-%E4%BC%81%E6%A5%AD%E8%B2%AC%E4%BB%BB/b?ie=UTF8&node=2038754051&ref_=footer_corpres',\n",
       " 'https://www.amazon.co.jp/Joy-con%E5%AF%BE%E5%BF%9C-%E3%82%BB%E3%83%B3%E3%82%B5%E3%83%BC%E3%82%A2%E3%83%8A%E3%83%AD%E3%82%B0%E3%82%B8%E3%83%A7%E3%82%A4%E3%82%B9%E3%83%86%E3%82%A3%E3%83%83%E3%82%AF-%E3%83%8B%E3%83%B3%E3%83%86%E3%83%B3%E3%83%89%E3%83%BC%E3%82%B9%E3%82%A4%E3%83%83%E3%83%81-Joy-con%E7%94%A8-%E3%82%B3%E3%83%B3%E3%83%88%E3%83%AD%E3%83%BC%E3%83%AB-%E4%BF%AE%E7%90%86%E3%83%84%E3%83%BC%E3%83%AB%E4%BB%98/dp/B07PWQN46J/ref=zg_bs_videogames_19/357-3456137-5371151?_encoding=UTF8&psc=1&refRID=EEAHVJ63B5C7S16AFCFN',\n",
       " 'https://www.amazon.co.jp/FPS-Freek-Galaxy-Playstation-%E4%B8%A6%E8%A1%8C%E8%BC%B8%E5%85%A5%E5%93%81/dp/B01ASBS9IU/ref=zg_bs_videogames_32/357-3456137-5371151?_encoding=UTF8&psc=1&refRID=EEAHVJ63B5C7S16AFCFN',\n",
       " 'https://www.amazon.co.jp/b/?_encoding=UTF8&ld=AZJPSOASL&node=2490612051&ref_=nav_cs_sell',\n",
       " 'https://www.amazon.co.jp/product-reviews/B07NVQMLCK/ref=zg_bs_videogames_cr_46/357-3456137-5371151?ie=UTF8&refRID=EEAHVJ63B5C7S16AFCFN',\n",
       " 'https://www.amazon.co.jp/%E3%83%9B%E3%83%BC%E3%83%A0-%E3%82%AD%E3%83%83%E3%83%81%E3%83%B3-%E6%B6%88%E8%80%97%E5%93%81%E3%83%BB%E3%82%A2%E3%82%AF%E3%82%BB%E3%82%B5%E3%83%AA-%E3%82%AD%E3%83%83%E3%83%81%E3%83%B3-%E7%94%9F%E6%B4%BB%E9%9B%91%E8%B2%A8/b/?ie=UTF8&node=3828871&ref_=nav_cs_home_kitchen',\n",
       " 'https://www.amazon.co.jp/Razer-%E3%82%B2%E3%83%BC%E3%83%9F%E3%83%B3%E3%82%B0%E3%83%98%E3%83%83%E3%83%89%E3%82%BB%E3%83%83%E3%83%88-%E3%82%B9%E3%83%9E%E3%83%BC%E3%83%88%E3%83%95%E3%82%A9%E3%83%B3-%E5%86%B7%E5%8D%B4%E3%82%B8%E3%82%A7%E3%83%AB%E3%83%91%E3%83%83%E3%83%89%E3%80%90%E6%97%A5%E6%9C%AC%E6%AD%A3%E8%A6%8F%E4%BB%A3%E7%90%86%E5%BA%97%E4%BF%9D%E8%A8%BC%E5%93%81%E3%80%91-RZ04-02830100-R3M1/dp/B07NJQ1YBY/ref=zg_bs_videogames_28/357-3456137-5371151?_encoding=UTF8&psc=1&refRID=EEAHVJ63B5C7S16AFCFN',\n",
       " 'https://www.amazon.co.jp/%E4%BB%BB%E5%A4%A9%E5%A0%82-Nintendo-Switch-Pro%E3%82%B3%E3%83%B3%E3%83%88%E3%83%AD%E3%83%BC%E3%83%A9%E3%83%BC/dp/B01NCX3W3O/ref=zg_bs_videogames_3/357-3456137-5371151?_encoding=UTF8&psc=1&refRID=EEAHVJ63B5C7S16AFCFN',\n",
       " 'https://www.amazon.co.jp/gp/customer-preferences/select-language/ref=footer_lang_c?ie=UTF8&preferencesReturnUrl=%2Fgp%2Fbestsellers%2Fvideogames%2F',\n",
       " 'https://www.amazon.co.jp/%E3%83%9E%E3%82%A4%E3%82%AF%E3%83%AD%E3%82%BD%E3%83%95%E3%83%88-Minecraft-%E3%83%9E%E3%82%A4%E3%83%B3%E3%82%AF%E3%83%A9%E3%83%95%E3%83%88-Switch/dp/B07D131MS4/ref=zg_bs_videogames_23/357-3456137-5371151?_encoding=UTF8&psc=1&refRID=EEAHVJ63B5C7S16AFCFN',\n",
       " 'https://www.amazon.co.jp/%E3%83%95%E3%82%A1%E3%82%A4%E3%83%8A%E3%83%AB%E3%83%95%E3%82%A1%E3%83%B3%E3%82%BF%E3%82%B8%E3%83%BCVII_%E3%83%AA%E3%83%A1%E3%82%A4%E3%82%AF/dp/B07SFY368H/ref=zg_bs_videogames_5/357-3456137-5371151?_encoding=UTF8&psc=1&refRID=EEAHVJ63B5C7S16AFCFN',\n",
       " 'https://www.amazon.co.jp/%E4%BB%BB%E5%A4%A9%E5%A0%82-4902370535747-Nintendo-Switch-AC%E3%82%A2%E3%83%80%E3%83%97%E3%82%BF%E3%83%BC/dp/B01MY9I55F/ref=zg_bs_videogames_21/357-3456137-5371151?_encoding=UTF8&psc=1&refRID=EEAHVJ63B5C7S16AFCFN',\n",
       " 'https://www.amazon.co.jp/%E3%82%B2%E3%83%BC%E3%83%9F%E3%83%B3%E3%82%B0%E3%82%A4%E3%83%A4%E3%83%9B%E3%83%B3-%E3%83%9E%E3%82%A4%E3%82%AF%E4%BB%98%E3%81%8D%E3%82%A4%E3%83%A4%E3%83%9B%E3%83%B3-3-5mm%E3%82%B3%E3%83%8D%E3%82%AF%E3%82%BF%E4%BB%98%E3%81%8D-PlayStation-WINTORY/dp/B07DDGPCPR/ref=zg_bs_videogames_39/357-3456137-5371151?_encoding=UTF8&psc=1&refRID=EEAHVJ63B5C7S16AFCFN',\n",
       " 'https://www.amazon.co.jp/%E9%99%90%E5%AE%9ATV%E3%82%B2%E3%83%BC%E3%83%A0/b/?ie=UTF8&node=2937923051&ref_=sv_vg_2',\n",
       " 'https://www.amazon.co.jp/%E3%83%90%E3%83%BC%E3%82%B2%E3%83%B3%E3%82%B3%E3%83%BC%E3%83%8A%E3%83%BC-%E3%82%B2%E3%83%BC%E3%83%A0/b/?ie=UTF8&node=3245011&ref_=sv_vg_4',\n",
       " 'https://www.amazon.co.jp/product-reviews/B084H8S45Q/ref=zg_bs_videogames_cr_2/357-3456137-5371151?ie=UTF8&refRID=EEAHVJ63B5C7S16AFCFN',\n",
       " 'https://www.amazon.co.jp/prime/ref=nav_tooltip_redirect/357-3456137-5371151',\n",
       " 'https://www.amazon.co.jp/gp/yourstore/pym/ref=pd_pyml_rhf/357-3456137-5371151',\n",
       " 'https://www.amazon.co.jp/gcx/-/gfhz/?ref_=nav_cs_giftfinder',\n",
       " 'https://www.amazon.co.jp/Nintendo-Switch-Online%E5%88%A9%E7%94%A8%E5%88%B8-%E5%80%8B%E4%BA%BA%E3%83%97%E3%83%A9%E3%83%B312%E3%81%8B%E6%9C%88-%E3%82%AA%E3%83%B3%E3%83%A9%E3%82%A4%E3%83%B3%E3%82%B3%E3%83%BC%E3%83%89%E7%89%88/dp/B07HGFSLSD/ref=zg_bs_videogames_14/357-3456137-5371151?_encoding=UTF8&psc=1&refRID=EEAHVJ63B5C7S16AFCFN',\n",
       " 'https://www.amazon.co.jp/product-reviews/B01LYQKJNU/ref=zg_bs_videogames_cr_50/357-3456137-5371151?ie=UTF8&refRID=EEAHVJ63B5C7S16AFCFN',\n",
       " 'https://www.amazon.co.jp/%E3%83%97%E3%83%AC%E3%82%A4%E3%82%B9%E3%83%86%E3%83%BC%E3%82%B7%E3%83%A7%E3%83%B33-%E3%82%B2%E3%83%BC%E3%83%A0/b/?ie=UTF8&node=15782591&ref_=sv_vg_10',\n",
       " 'https://www.amazon.co.jp/product-reviews/B07NJQ1YBY/ref=zg_bs_videogames_cr_28/357-3456137-5371151?ie=UTF8&refRID=EEAHVJ63B5C7S16AFCFN',\n",
       " 'https://www.amazon.co.jp/product-reviews/B07KBHM7J1/ref=zg_bs_videogames_cr_38/357-3456137-5371151?ie=UTF8&refRID=EEAHVJ63B5C7S16AFCFN',\n",
       " 'https://www.amazon.co.jp/WiiU/b/?ie=UTF8&node=2279943051&ref_=sv_vg_11',\n",
       " 'https://www.amazon.co.jp/gp/navigation-country/select-country/ref=footer_icp_cp_c?ie=UTF8&preferencesReturnUrl=%2Fgp%2Fbestsellers%2Fvideogames%2F',\n",
       " 'https://www.amazon.co.jp/gp/css/returns/homepage.html?ie=UTF8&ref_=footer_returns',\n",
       " 'https://www.amazon.co.jp/%E3%81%A8%E3%81%B3%E3%81%A0%E3%81%9B-%E3%81%A9%E3%81%86%E3%81%B6%E3%81%A4%E3%81%AE%E6%A3%AE-amiibo-%E3%80%8C%E3%80%8E%E3%81%A8%E3%81%B3%E3%81%A0%E3%81%9B-amiibo%E3%82%AB%E3%83%BC%E3%83%89%E3%80%8D1%E6%9E%9A/dp/B01LYQKJNU/ref=zg_bs_videogames_50/357-3456137-5371151?_encoding=UTF8&psc=1&refRID=EEAHVJ63B5C7S16AFCFN',\n",
       " 'https://www.amazon.co.jp/%E3%83%8B%E3%83%B3%E3%83%86%E3%83%B3%E3%83%89%E3%83%BC3DS/b/?ie=UTF8&node=2225588051&ref_=sv_vg_9',\n",
       " 'https://www.amazon.co.jp/product-reviews/B07HVH5KW9/ref=zg_bs_videogames_cr_33/357-3456137-5371151?ie=UTF8&refRID=EEAHVJ63B5C7S16AFCFN',\n",
       " 'https://www.amazon.co.jp/Nintendo-Switch-%E3%83%8B%E3%83%B3%E3%83%86%E3%83%B3%E3%83%89%E3%83%BC%E3%82%B9%E3%82%A4%E3%83%83%E3%83%81-%E3%83%8D%E3%82%AA%E3%83%B3%E3%83%96%E3%83%AB%E3%83%BC-%E3%83%90%E3%83%83%E3%83%86%E3%83%AA%E3%83%BC%E6%8C%81%E7%B6%9A%E6%99%82%E9%96%93%E3%81%8C%E9%95%B7%E3%81%8F%E3%81%AA%E3%81%A3%E3%81%9F%E3%83%A2%E3%83%87%E3%83%AB/dp/B07WXL5YPW/ref=zg_bs_videogames_9/357-3456137-5371151?_encoding=UTF8&psc=1&refRID=EEAHVJ63B5C7S16AFCFN',\n",
       " 'https://www.amazon.co.jp/product-reviews/B07WS7BZYF/ref=zg_bs_videogames_cr_17/357-3456137-5371151?ie=UTF8&refRID=EEAHVJ63B5C7S16AFCFN',\n",
       " 'https://www.amazon.co.jp/gp/customer-preferences/select-language/ref=topnav_lang_c?preferencesReturnUrl=%2Fgp%2Fbestsellers%2Fvideogames%2F',\n",
       " 'https://www.amazon.co.jp/Nintendo-Switch-Online-%E5%80%8B%E4%BA%BA%E3%83%97%E3%83%A9%E3%83%B33%E3%81%8B%E6%9C%88-%E3%82%AA%E3%83%B3%E3%83%A9%E3%82%A4%E3%83%B3%E3%82%B3%E3%83%BC%E3%83%89%E7%89%88/dp/B07HG6HC3H/ref=zg_bs_videogames_10/357-3456137-5371151?_encoding=UTF8&psc=1&refRID=EEAHVJ63B5C7S16AFCFN',\n",
       " 'https://www.amazon.co.jp/Joycon%E5%AF%BE%E5%BF%9C-%E3%82%BB%E3%83%B3%E3%82%B5%E3%83%BC-%E3%82%B3%E3%83%B3%E3%83%88%E3%83%AD%E3%83%BC%E3%83%AB-%E3%82%A2%E3%83%8A%E3%83%AD%E3%82%B0%E3%82%B8%E3%83%A7%E3%82%A4%E3%82%B9%E3%83%86%E3%82%A3%E3%83%83%E3%82%AF-%E3%82%AD%E3%83%A3%E3%83%83%E3%83%97%E4%BB%98%E3%81%8D/dp/B07HVH5KW9/ref=zg_bs_videogames_33/357-3456137-5371151?_encoding=UTF8&psc=1&refRID=EEAHVJ63B5C7S16AFCFN',\n",
       " 'https://www.amazon.co.jp/Nintendo-Switch-%E3%83%8B%E3%83%B3%E3%83%86%E3%83%B3%E3%83%89%E3%83%BC%E3%82%B9%E3%82%A4%E3%83%83%E3%83%81-%E3%83%8D%E3%82%AA%E3%83%B3%E3%83%96%E3%83%AB%E3%83%BC-%E3%83%8D%E3%82%AA%E3%83%B3%E3%83%AC%E3%83%83%E3%83%89%E3%80%91/dp/B01NCXFWIZ/ref=zg_bs_videogames_42/357-3456137-5371151?_encoding=UTF8&psc=1&refRID=EEAHVJ63B5C7S16AFCFN',\n",
       " 'https://www.amazon.co.jp/gp/bestsellers/videogames/?ie=UTF8&ref_=sv_vg_3',\n",
       " 'https://www.amazon.co.jp/%E4%BB%BB%E5%A4%A9%E5%A0%82-%E5%A4%A7%E4%B9%B1%E9%97%98%E3%82%B9%E3%83%9E%E3%83%83%E3%82%B7%E3%83%A5%E3%83%96%E3%83%A9%E3%82%B6%E3%83%BC%E3%82%BA-SPECIAL-Switch/dp/B07FDW61HX/ref=zg_bs_videogames_16/357-3456137-5371151?_encoding=UTF8&psc=1&refRID=EEAHVJ63B5C7S16AFCFN',\n",
       " 'https://www.amazon.co.jp/gp/gc?ref_=nav_cs_gc',\n",
       " 'https://www.amazon.co.jp/b/?ie=UTF8&node=2510863051&ref_=sv_vg_12',\n",
       " 'https://www.amazon.co.jp/Nintendo-Switch%E3%82%AD%E3%83%A3%E3%83%AA%E3%83%B3%E3%82%B0%E3%82%B1%E3%83%BC%E3%82%B9-%E3%81%A9%E3%81%86%E3%81%B6%E3%81%A4%E3%81%AE%E6%A3%AE%E3%82%A8%E3%83%87%E3%82%A3%E3%82%B7%E3%83%A7%E3%83%B3-%E3%81%9F%E3%81%AC%E3%81%8D%E3%82%A2%E3%83%AD%E3%83%8F%E6%9F%84-%E7%94%BB%E9%9D%A2%E4%BF%9D%E8%AD%B7%E3%82%B7%E3%83%BC%E3%83%88%E4%BB%98%E3%81%8D/dp/B085GGZ2RD/ref=zg_bs_videogames_36/357-3456137-5371151?_encoding=UTF8&psc=1&refRID=EEAHVJ63B5C7S16AFCFN',\n",
       " 'https://www.amazon.co.jp/product-reviews/B084HPGQ9W/ref=zg_bs_videogames_cr_1/357-3456137-5371151?ie=UTF8&refRID=EEAHVJ63B5C7S16AFCFN',\n",
       " 'https://www.amazon.co.jp/%E4%BB%BB%E5%A4%A9%E5%A0%82-%E3%81%82%E3%81%A4%E3%81%BE%E3%82%8C-%E3%81%A9%E3%81%86%E3%81%B6%E3%81%A4%E3%81%AE%E6%A3%AE-%E3%82%AA%E3%83%B3%E3%83%A9%E3%82%A4%E3%83%B3%E3%82%B3%E3%83%BC%E3%83%89%E7%89%88/dp/B084H8S45Q/ref=zg_bs_videogames_2/357-3456137-5371151?_encoding=UTF8&psc=1&refRID=EEAHVJ63B5C7S16AFCFN',\n",
       " 'https://www.amazon.co.jp/product-reviews/B01NCXFWIZ/ref=zg_bs_videogames_cr_42/357-3456137-5371151?ie=UTF8&refRID=EEAHVJ63B5C7S16AFCFN',\n",
       " 'https://www.amazon.co.jp/product-reviews/B07HGFSLSD/ref=zg_bs_videogames_cr_14/357-3456137-5371151?ie=UTF8&refRID=EEAHVJ63B5C7S16AFCFN',\n",
       " 'https://www.amazon.co.jp/product-reviews/B07F76K6FJ/ref=zg_bs_videogames_cr_37/357-3456137-5371151?ie=UTF8&refRID=EEAHVJ63B5C7S16AFCFN',\n",
       " 'https://www.amazon.co.jp/prime?ref_=nav_logo_prime_join']"
      ]
     },
     "execution_count": 16,
     "metadata": {},
     "output_type": "execute_result"
    }
   ],
   "source": [
    "#page_links"
   ]
  },
  {
   "cell_type": "code",
   "execution_count": 21,
   "metadata": {},
   "outputs": [],
   "source": [
    "def scrape_product_page(url,title_lookup = \"#productTitle\",price_lookup = \"#priceblock_ourprice\"):\n",
    "    driver.get(url)\n",
    "    time.sleep(1.2)\n",
    "    body_el = driver.find_element_by_css_selector(\"body\")\n",
    "    html_str = body_el.get_attribute(\"innerHTML\")\n",
    "    html_obj = HTML(html=html_str)\n",
    "    product_title = html_obj.find(title_lookup, first=True).text\n",
    "    product_price = html_obj.find(price_lookup, first=True).text\n",
    "    return product_title,product_price"
   ]
  },
  {
   "cell_type": "code",
   "execution_count": 19,
   "metadata": {},
   "outputs": [],
   "source": [
    "first_product_link = page_links[0]"
   ]
  },
  {
   "cell_type": "code",
   "execution_count": 23,
   "metadata": {},
   "outputs": [
    {
     "name": "stdout",
     "output_type": "stream",
     "text": [
      "https://www.amazon.co.jp/%E4%BB%BB%E5%A4%A9%E5%A0%82-%E3%81%82%E3%81%A4%E3%81%BE%E3%82%8C-%E3%81%A9%E3%81%86%E3%81%B6%E3%81%A4%E3%81%AE%E6%A3%AE-Switch/dp/B084HPGQ9W/ref=zg_bs_videogames_1/357-3456137-5371151?_encoding=UTF8&psc=1&refRID=EEAHVJ63B5C7S16AFCFN あつまれ どうぶつの森 -Switch ￥5,673\n",
      "https://www.amazon.co.jp/Nintendo-Switch%E7%94%A8-%E4%BB%BB%E5%A4%A9%E5%A0%82%E3%83%8B%E3%83%B3%E3%83%86%E3%83%B3%E3%83%89%E3%83%BC-%E3%83%96%E3%83%AB%E3%83%BC%E3%83%A9%E3%82%A4%E3%83%88%E3%82%AB%E3%83%83%E3%83%88-3D%E3%83%A9%E3%82%A6%E3%83%B3%E3%83%89%E3%82%A8%E3%83%83%E3%82%B8%E5%8A%A0%E5%B7%A5/dp/B083FBFQ7T/ref=zg_bs_videogames_31/357-3456137-5371151?_encoding=UTF8&psc=1&refRID=EEAHVJ63B5C7S16AFCFN ３枚入り Nintendo Switch用 保護 ガラスフィルム 任天堂ニンテンドー スイッチ ブルーライトカット 日本硝子素材 強靭9H 3Dラウンドエッジ加工 撥水撥油 指紋防止 飛散防止 貼付道具付 ピタ貼り 自己吸着 気泡防止 極薄 ￥1,099\n",
      "https://www.amazon.co.jp/PlayStation-%E3%82%B8%E3%82%A7%E3%83%83%E3%83%88%E3%83%BB%E3%83%96%E3%83%A9%E3%83%83%E3%82%AF-500GB-CUH-2200AB01-%E3%81%8A%E5%A5%BD%E3%81%8D%E3%81%AA%E3%83%80%E3%82%A6%E3%83%B3%E3%83%AD%E3%83%BC%E3%83%89%E3%82%BD%E3%83%95%E3%83%882%E6%9C%AC%E3%82%BB%E3%83%83%E3%83%88/dp/B07F76K6FJ/ref=zg_bs_videogames_37/357-3456137-5371151?_encoding=UTF8&psc=1&refRID=EEAHVJ63B5C7S16AFCFN PlayStation 4 ジェット・ブラック 500GB (CUH-2200AB01) ￥42,000\n",
      "https://www.amazon.co.jp/%E3%82%BC%E3%83%AB%E3%83%80%E3%81%AE%E4%BC%9D%E8%AA%AC-%E3%83%96%E3%83%AC%E3%82%B9-%E3%82%AA%E3%83%96-%E3%83%AF%E3%82%A4%E3%83%AB%E3%83%89-Switch/dp/B01N12HJHQ/ref=zg_bs_videogames_45/357-3456137-5371151?_encoding=UTF8&psc=1&refRID=EEAHVJ63B5C7S16AFCFN ゼルダの伝説 ブレス オブ ザ ワイルド - Switch ￥6,618\n",
      "https://www.amazon.co.jp/Joy-con%E5%AF%BE%E5%BF%9C-%E3%82%BB%E3%83%B3%E3%82%B5%E3%83%BC%E3%82%A2%E3%83%8A%E3%83%AD%E3%82%B0%E3%82%B8%E3%83%A7%E3%82%A4%E3%82%B9%E3%83%86%E3%82%A3%E3%83%83%E3%82%AF-%E3%83%8B%E3%83%B3%E3%83%86%E3%83%B3%E3%83%89%E3%83%BC%E3%82%B9%E3%82%A4%E3%83%83%E3%83%81-Joy-con%E7%94%A8-%E3%82%B3%E3%83%B3%E3%83%88%E3%83%AD%E3%83%BC%E3%83%AB-%E4%BF%AE%E7%90%86%E3%83%84%E3%83%BC%E3%83%AB%E4%BB%98/dp/B07QY6XZ5X/ref=zg_bs_videogames_12/357-3456137-5371151?_encoding=UTF8&psc=1&refRID=EEAHVJ63B5C7S16AFCFN Switch NS Joy-con対応 Joy-Con for Switch コントロール 右／左 センサーアナログジョイスティック 交換用 2個 キャップ付き ニンテンドースイッチ Joy-con用　L/Rセンサー コントロール　修理ツール付 左右対応 ￥1,499\n",
      "https://www.amazon.co.jp/%E4%BB%BB%E5%A4%A9%E5%A0%82-Nintendo-Switch%E5%85%85%E9%9B%BB%E3%82%B9%E3%82%BF%E3%83%B3%E3%83%89-%E3%83%95%E3%83%AA%E3%83%BC%E3%82%B9%E3%83%88%E3%83%83%E3%83%97%E5%BC%8F/dp/B07D4R5GBJ/ref=zg_bs_videogames_48/357-3456137-5371151?_encoding=UTF8&psc=1&refRID=EEAHVJ63B5C7S16AFCFN 【任天堂純正品】Nintendo Switch充電スタンド(フリーストップ式) ￥1,664\n",
      "https://www.amazon.co.jp/%E4%BB%BB%E5%A4%A9%E5%A0%82-%E3%83%9E%E3%83%AA%E3%82%AA%E3%82%AB%E3%83%BC%E3%83%888-%E3%83%87%E3%83%A9%E3%83%83%E3%82%AF%E3%82%B9-Switch/dp/B01N12G06K/ref=zg_bs_videogames_8/357-3456137-5371151?_encoding=UTF8&psc=1&refRID=EEAHVJ63B5C7S16AFCFN マリオカート8 デラックス - Switch ￥5,518\n",
      "https://www.amazon.co.jp/%E4%BB%BB%E5%A4%A9%E5%A0%82-%E3%83%9E%E3%83%AA%E3%82%AA%E3%82%AB%E3%83%BC%E3%83%888-%E3%83%87%E3%83%A9%E3%83%83%E3%82%AF%E3%82%B9-%E3%82%AA%E3%83%B3%E3%83%A9%E3%82%A4%E3%83%B3%E3%82%B3%E3%83%BC%E3%83%89%E7%89%88/dp/B01MTASBY4/ref=zg_bs_videogames_40/357-3456137-5371151?_encoding=UTF8&psc=1&refRID=EEAHVJ63B5C7S16AFCFN マリオカート8 デラックス|オンラインコード版 ￥5,751\n",
      "https://www.amazon.co.jp/Nintendo-%E3%83%96%E3%83%AB%E3%83%BC%E3%83%A9%E3%82%A4%E3%83%88%E3%82%AB%E3%83%83%E3%83%88-%E6%97%AD%E7%A1%9D%E5%AD%90%E4%BB%95%E6%A7%98%E3%83%A2%E3%83%87%E3%83%AB-60%E6%97%A5%E9%96%93%E4%BA%A4%E6%8F%9B%E5%AF%BE%E5%BF%9C-Excitech/dp/B078Y8QM6N/ref=zg_bs_videogames_20/357-3456137-5371151?_encoding=UTF8&psc=1&refRID=EEAHVJ63B5C7S16AFCFN Nintendo Switch ガラスフィルム 【 ブルーライトカット 】 保護フィルム 任天堂 スイッチ フィルム 強化保護ガラス 【 日本製素材 旭硝子仕様モデル 】 硬度9H ガラス飛散防止 指紋防止 気泡ゼロ 【 メーカー正規品 60日間交換対応 】 (Excitech) ￥1,180\n",
      "https://www.amazon.co.jp/%E3%80%90%E6%97%A5%E6%9C%AC%E5%B8%82%E5%A0%B4%E5%90%91%E3%81%91%E3%80%91%E3%80%90%E5%AE%9F%E5%AE%B9%E9%87%8F%E9%AB%98%E3%80%91-PSP2000-PSP-S110-%E3%83%90%E3%83%83%E3%83%86%E3%83%AA%E3%83%BC%E3%83%91%E3%83%83%E3%82%AF-%E3%80%90%E3%83%AD%E3%83%AF%E3%82%B8%E3%83%A3%E3%83%91%E3%83%B3PSE%E3%83%9E%E3%83%BC%E3%82%AF%E3%80%91/dp/B002HUWGJY/ref=zg_bs_videogames_44/357-3456137-5371151?_encoding=UTF8&psc=1&refRID=EEAHVJ63B5C7S16AFCFN 【国内市場向け】【実容量高】 PSP2000/3000 互換 PSP-S110 バッテリーパック 【ロワジャパンPSEマーク】 ￥1,790\n",
      "https://www.amazon.co.jp/%E3%83%8B%E3%83%B3%E3%83%86%E3%83%B3%E3%83%89%E3%83%BC3DS-AC%E3%82%A2%E3%83%80%E3%83%97%E3%82%BF%E3%83%BC-New2DSLL-New3DS-New3DSLL/dp/B001KZGZVW/ref=zg_bs_videogames_25/357-3456137-5371151?_encoding=UTF8&psc=1&refRID=EEAHVJ63B5C7S16AFCFN 【任天堂純正品】New ニンテンドー3DS ACアダプター (New2DSLL/New3DS/New3DSLL/3DS/3DSLL/DSi兼用) ￥899\n",
      "https://www.amazon.co.jp/Xenoblade-Definitive-%E3%82%BC%E3%83%8E%E3%83%96%E3%83%AC%E3%82%A4%E3%83%89-%E3%83%87%E3%82%A3%E3%83%95%E3%82%A7%E3%83%8B%E3%83%86%E3%82%A3%E3%83%96-Switch/dp/B077QN8Y1D/ref=zg_bs_videogames_26/357-3456137-5371151?_encoding=UTF8&psc=1&refRID=EEAHVJ63B5C7S16AFCFN Xenoblade Definitive Edition(ゼノブレイド ディフェニティブ エディション)-Switch ￥5,673\n",
      "https://www.amazon.co.jp/2%E6%9E%9A%E5%85%A5%E3%82%8Afor-Nintendo-Switch-%E5%BC%B7%E5%8C%96%E3%82%AC%E3%83%A9%E3%82%B9-%E3%83%96%E3%83%AB%E3%83%BC%E3%83%A9%E3%82%A4%E3%83%88/dp/B07PPZQXV4/ref=zg_bs_videogames_29/357-3456137-5371151?_encoding=UTF8&psc=1&refRID=EEAHVJ63B5C7S16AFCFN 2枚入りfor Nintendo Switch 強化ガラス 保護 フィルム ブルーライト 日本硝子 硬度9H 指紋防止 スイッチ ￥999\n",
      "https://www.amazon.co.jp/%E4%BB%BB%E5%A4%A9%E5%A0%82-%E3%82%B9%E3%83%BC%E3%83%91%E3%83%BC-%E3%83%9E%E3%83%AA%E3%82%AA%E3%83%91%E3%83%BC%E3%83%86%E3%82%A3-Switch/dp/B07DPDDP5V/ref=zg_bs_videogames_35/357-3456137-5371151?_encoding=UTF8&psc=1&refRID=EEAHVJ63B5C7S16AFCFN スーパー マリオパーティ - Switch ￥5,518\n",
      "https://www.amazon.co.jp/DinoFire-%E4%BB%BB%E5%A4%A9%E5%A0%82switch-%E5%8D%8A%E9%80%8F%E6%98%8EBluetooth%E6%8E%A5%E7%B6%9A-%E3%83%97%E3%83%AD%E3%82%B3%E3%83%B3%E3%83%88%E3%83%AD%E3%83%BC%E3%83%A9%E3%83%BC-%E5%85%AD%E8%BB%B8%E3%82%B8%E3%83%A3%E3%82%A4%E3%83%AD%E3%82%BB%E3%83%B3%E3%82%B5%E3%83%BC%E6%90%AD%E8%BC%89/dp/B085RSHWHJ/ref=zg_bs_videogames_49/357-3456137-5371151?_encoding=UTF8&psc=1&refRID=EEAHVJ63B5C7S16AFCFN スイッチ コントローラー DinoFire 任天堂switch/switch lite対応 switch コントローラー 半透明Bluetooth接続 スイッチ プロコン TURBO連射/振動機能付き無線 switch プロコントローラー 六軸ジャイロセンサー搭載 小型 pro コントローラー 技適承認取得 ￥3,266\n",
      "https://www.amazon.co.jp/%E4%BB%BB%E5%A4%A9%E5%A0%82-orjinaljoycongrip-Joy-Con%E5%85%85%E9%9B%BB%E3%82%B0%E3%83%AA%E3%83%83%E3%83%97/dp/B01N7TGKYE/ref=zg_bs_videogames_22/357-3456137-5371151?_encoding=UTF8&psc=1&refRID=EEAHVJ63B5C7S16AFCFN 【任天堂純正品】Joy-Con充電グリップ ￥2,455\n",
      "https://www.amazon.co.jp/FPS-Freek-Vortex-Playstation-%E4%B8%A6%E8%A1%8C%E8%BC%B8%E5%85%A5%E5%93%81/dp/B01ASAGUL4/ref=zg_bs_videogames_18/357-3456137-5371151?_encoding=UTF8&psc=1&refRID=EEAHVJ63B5C7S16AFCFN FPS Freek Vortex | FPSフリーク PlayStation 4 (PS4) | Performance Thumbsticks | KontrolFreek [並行輸入品] ￥1,880\n",
      "https://www.amazon.co.jp/%E5%B0%8F%E5%9E%8B6%E8%BB%B8%E3%82%B8%E3%83%A3%E3%82%A4%E3%83%AD%E3%82%BB%E3%83%B3%E3%82%B5%E3%83%BC%E6%90%AD%E8%BC%89-%E3%82%B9%E3%82%A4%E3%83%83%E3%83%81%E3%82%B3%E3%83%B3%E3%83%88%E3%83%AD%E3%83%BC%E3%83%A9%E3%83%BCTURBO%E9%80%A3%E5%B0%84%E6%A9%9F%E8%83%BD%E4%BB%98%E3%81%8D-%E3%82%B8%E3%83%A3%E3%82%A4%E3%83%AD%E3%82%BB%E3%83%B3%E3%82%B5%E3%83%BC-Bluetooth%E6%8E%A5%E7%B6%9A-%E3%82%B9%E3%82%A4%E3%83%83%E3%83%81%E3%81%AE%E5%85%A8%E3%81%A6%E3%82%B7%E3%82%B9%E3%83%86%E3%83%A0%E3%81%AB%E5%AF%BE%E5%BF%9C/dp/B07V5DY94M/ref=zg_bs_videogames_6/357-3456137-5371151?_encoding=UTF8&psc=1&refRID=EEAHVJ63B5C7S16AFCFN Switch コントローラー [2020最新] 無線 HD振動 小型6軸ジャイロセンサー搭載 スイッチコントローラーTURBO連射機能付き ジャイロセンサー Bluetooth接続 任天堂 スイッチの全てシステムに対応 任天堂 Nintendo Switch 対応 小型 日本語取扱説明書 ￥3,599\n",
      "https://www.amazon.co.jp/%E6%9D%B1%E5%8C%97%E5%A4%A7%E5%AD%A6%E5%8A%A0%E9%BD%A2%E5%8C%BB%E5%AD%A6%E7%A0%94%E7%A9%B6%E6%89%80-%E5%B7%9D%E5%B3%B6%E9%9A%86%E5%A4%AA%E6%95%99%E6%8E%88%E7%9B%A3%E4%BF%AE-%E8%84%B3%E3%82%92%E9%8D%9B%E3%81%88%E3%82%8B%E5%A4%A7%E4%BA%BA%E3%81%AENintendo-Switch%E3%83%88%E3%83%AC%E3%83%BC%E3%83%8B%E3%83%B3%E3%82%B0-%E3%82%BF%E3%83%83%E3%83%81%E3%83%9A%E3%83%B3%E4%BB%98%E3%81%8D/dp/B07YL2WCL8/ref=zg_bs_videogames_13/357-3456137-5371151?_encoding=UTF8&psc=1&refRID=EEAHVJ63B5C7S16AFCFN 東北大学加齢医学研究所 川島隆太教授監修 脳を鍛える大人のNintendo Switchトレーニング(タッチペン付き) -Switch ￥3,273\n",
      "https://www.amazon.co.jp/Joy-con%E5%AF%BE%E5%BF%9C-%E3%82%BB%E3%83%B3%E3%82%B5%E3%83%BC%E3%82%A2%E3%83%8A%E3%83%AD%E3%82%B0%E3%82%B8%E3%83%A7%E3%82%A4%E3%82%B9%E3%83%86%E3%82%A3%E3%83%83%E3%82%AF-%E3%83%8B%E3%83%B3%E3%83%86%E3%83%B3%E3%83%89%E3%83%BC%E3%82%B9%E3%82%A4%E3%83%83%E3%83%81-Joy-con%E7%94%A8-%E3%82%B3%E3%83%B3%E3%83%88%E3%83%AD%E3%83%BC%E3%83%AB-%E4%BF%AE%E7%90%86%E3%83%84%E3%83%BC%E3%83%AB%E4%BB%98/dp/B07NVQMLCK/ref=zg_bs_videogames_46/357-3456137-5371151?_encoding=UTF8&psc=1&refRID=EEAHVJ63B5C7S16AFCFN Switch NS Joy-con対応 Joy-Con for Switch コントロール 右／左 センサーアナログジョイスティック 交換用 2個 キャップ付き ニンテンドースイッチ Joy-con用　L/Rセンサー コントロール　修理ツール付 ￥1,799\n"
     ]
    },
    {
     "name": "stdout",
     "output_type": "stream",
     "text": [
      "https://www.amazon.co.jp/%E4%BB%BB%E5%A4%A9%E5%A0%82-Splatoon-2-%E3%82%B9%E3%83%97%E3%83%A9%E3%83%88%E3%82%A5%E3%83%BC%E3%83%B32-Switch/dp/B072J2J26T/ref=zg_bs_videogames_24/357-3456137-5371151?_encoding=UTF8&psc=1&refRID=EEAHVJ63B5C7S16AFCFN Splatoon 2 (スプラトゥーン2) - Switch ￥5,673\n"
     ]
    }
   ],
   "source": [
    "for link in page_links:\n",
    "    title,price = (None,None)\n",
    "    try:\n",
    "        title,price = scrape_product_page(link)\n",
    "    except:\n",
    "        pass\n",
    "    if title != None and price != None:\n",
    "        print(link,title,price)"
   ]
  },
  {
   "cell_type": "code",
   "execution_count": null,
   "metadata": {},
   "outputs": [],
   "source": [
    "#https://www.amazon.co.jp/%E4%BB%BB%E5%A4%A9%E5%A0%82-Nintendo-Switch%E5%85%85%E9%9B%BB%E3%82%B9%E3%82%BF%E3%83%B3%E3%83%89-%E3%83%95%E3%83%AA%E3%83%BC%E3%82%B9%E3%83%88%E3%83%83%E3%83%97%E5%BC%8F/dp/B07D4R5GBJ/\n",
    "#https://www.amazon.co.jp/%E4%BB%BB%E5%A4%A9%E5%A0%82-Nintendo-Switch%E5%85%85%E9%9B%BB%E3%82%B9%E3%82%BF%E3%83%B3%E3%83%89-%E3%83%95%E3%83%AA%E3%83%BC%E3%82%B9%E3%83%88%E3%83%83%E3%83%97%E5%BC%8F/dp/B07D4R5GBJ/\n",
    "\n"
   ]
  }
 ],
 "metadata": {
  "kernelspec": {
   "display_name": "Python 3",
   "language": "python",
   "name": "python3"
  },
  "language_info": {
   "codemirror_mode": {
    "name": "ipython",
    "version": 3
   },
   "file_extension": ".py",
   "mimetype": "text/x-python",
   "name": "python",
   "nbconvert_exporter": "python",
   "pygments_lexer": "ipython3",
   "version": "3.6.9"
  }
 },
 "nbformat": 4,
 "nbformat_minor": 2
}
