{
 "cells": [
  {
   "cell_type": "code",
   "execution_count": 6,
   "metadata": {},
   "outputs": [],
   "source": [
    "import tweepy\n",
    "import webbrowser\n",
    "import time"
   ]
  },
  {
   "cell_type": "code",
   "execution_count": 7,
   "metadata": {},
   "outputs": [],
   "source": [
    "API_KEY = 'lmPlSIx2EOx6iCDtuhBTtoHf1'\n",
    "SECRET_KEY = 'BkRcRGaBJ8iQvc9jDhXak3m8HjoMHzFDLFboSHDc3Qn1Begdph'"
   ]
  },
  {
   "cell_type": "code",
   "execution_count": 10,
   "metadata": {},
   "outputs": [],
   "source": [
    "callback_uri = 'oob'"
   ]
  },
  {
   "cell_type": "code",
   "execution_count": 13,
   "metadata": {},
   "outputs": [
    {
     "name": "stdout",
     "output_type": "stream",
     "text": [
      "https://api.twitter.com/oauth/authorize?oauth_token=IBMgMAAAAAABEZqLAAABchU-YyU\n"
     ]
    }
   ],
   "source": [
    "awth = tweepy.OAuthHandler(API_KEY,SECRET_KEY,callback_uri)\n",
    "redirect_url = awth.get_authorization_url()\n",
    "print(redirect_url)"
   ]
  },
  {
   "cell_type": "code",
   "execution_count": 14,
   "metadata": {},
   "outputs": [
    {
     "data": {
      "text/plain": [
       "True"
      ]
     },
     "execution_count": 14,
     "metadata": {},
     "output_type": "execute_result"
    }
   ],
   "source": [
    "webbrowser.open(redirect_url)"
   ]
  },
  {
   "cell_type": "code",
   "execution_count": 15,
   "metadata": {},
   "outputs": [
    {
     "name": "stdout",
     "output_type": "stream",
     "text": [
      "What's the pin value? 4934511\n"
     ]
    }
   ],
   "source": [
    "user_pint_input = input(\"What's the pin value? \")"
   ]
  },
  {
   "cell_type": "code",
   "execution_count": 16,
   "metadata": {},
   "outputs": [
    {
     "data": {
      "text/plain": [
       "('1234395995342950401-nc7BfR8LFpF6ppowP2lDr4EHrr7PwL',\n",
       " 'gAVyNV4Nv8WY50il8zu3UDHymTi4E3no6MpHkMGxKXZGc')"
      ]
     },
     "execution_count": 16,
     "metadata": {},
     "output_type": "execute_result"
    }
   ],
   "source": [
    "awth.get_access_token(user_pint_input)"
   ]
  },
  {
   "cell_type": "code",
   "execution_count": 18,
   "metadata": {},
   "outputs": [],
   "source": [
    "api = tweepy.API(awth)"
   ]
  },
  {
   "cell_type": "code",
   "execution_count": 19,
   "metadata": {},
   "outputs": [],
   "source": [
    "me = api.me()"
   ]
  },
  {
   "cell_type": "code",
   "execution_count": 21,
   "metadata": {},
   "outputs": [
    {
     "data": {
      "text/plain": [
       "'Bond01164976'"
      ]
     },
     "execution_count": 21,
     "metadata": {},
     "output_type": "execute_result"
    }
   ],
   "source": [
    "me.screen_name"
   ]
  },
  {
   "cell_type": "code",
   "execution_count": 26,
   "metadata": {},
   "outputs": [],
   "source": [
    "new_status = api.update_status(\"Hello world from the 30 Days of Python @joincfe what up?\")"
   ]
  },
  {
   "cell_type": "code",
   "execution_count": 27,
   "metadata": {},
   "outputs": [
    {
     "data": {
      "text/plain": [
       "Status(_api=<tweepy.api.API object at 0x7fa42df9e8>, _json={'created_at': 'Thu May 14 22:28:11 +0000 2020', 'id': 1261060768276996096, 'id_str': '1261060768276996096', 'text': 'Hello world from the 30 Days of Python @joincfe what up?', 'truncated': False, 'entities': {'hashtags': [], 'symbols': [], 'user_mentions': [{'screen_name': 'joincfe', 'name': 'Coding Entrepreneurs', 'id': 4730574793, 'id_str': '4730574793', 'indices': [39, 47]}], 'urls': []}, 'source': '<a href=\"https://github.com/igor-bond16/Coding_challenge_in_Python\" rel=\"nofollow\">Learn Twitter API igor-bond</a>', 'in_reply_to_status_id': None, 'in_reply_to_status_id_str': None, 'in_reply_to_user_id': None, 'in_reply_to_user_id_str': None, 'in_reply_to_screen_name': None, 'user': {'id': 1234395995342950401, 'id_str': '1234395995342950401', 'name': 'Bond Igor', 'screen_name': 'Bond01164976', 'location': '', 'description': 'Bond Igorでyoutube をやっています。\\n▶https://t.co/XTREpEIkn2\\nLivedoorblogもやっています。⇩', 'url': 'https://t.co/Tw42AOJsIz', 'entities': {'url': {'urls': [{'url': 'https://t.co/Tw42AOJsIz', 'expanded_url': 'http://igorbond.livedoor.blog', 'display_url': 'igorbond.livedoor.blog', 'indices': [0, 23]}]}, 'description': {'urls': [{'url': 'https://t.co/XTREpEIkn2', 'expanded_url': 'https://www.youtube.com/channel/UCDYbu9aViDvkubFcwgbbKDA', 'display_url': 'youtube.com/channel/UCDYbu…', 'indices': [28, 51]}]}}, 'protected': False, 'followers_count': 38, 'friends_count': 9, 'listed_count': 0, 'created_at': 'Mon Mar 02 08:32:08 +0000 2020', 'favourites_count': 55, 'utc_offset': None, 'time_zone': None, 'geo_enabled': True, 'verified': False, 'statuses_count': 66, 'lang': None, 'contributors_enabled': False, 'is_translator': False, 'is_translation_enabled': False, 'profile_background_color': 'F5F8FA', 'profile_background_image_url': None, 'profile_background_image_url_https': None, 'profile_background_tile': False, 'profile_image_url': 'http://pbs.twimg.com/profile_images/1234396175182123008/7yrkErPP_normal.jpg', 'profile_image_url_https': 'https://pbs.twimg.com/profile_images/1234396175182123008/7yrkErPP_normal.jpg', 'profile_link_color': '1DA1F2', 'profile_sidebar_border_color': 'C0DEED', 'profile_sidebar_fill_color': 'DDEEF6', 'profile_text_color': '333333', 'profile_use_background_image': True, 'has_extended_profile': True, 'default_profile': True, 'default_profile_image': False, 'following': False, 'follow_request_sent': False, 'notifications': False, 'translator_type': 'none'}, 'geo': None, 'coordinates': None, 'place': None, 'contributors': None, 'is_quote_status': False, 'retweet_count': 0, 'favorite_count': 0, 'favorited': False, 'retweeted': False, 'lang': 'en'}, created_at=datetime.datetime(2020, 5, 14, 22, 28, 11), id=1261060768276996096, id_str='1261060768276996096', text='Hello world from the 30 Days of Python @joincfe what up?', truncated=False, entities={'hashtags': [], 'symbols': [], 'user_mentions': [{'screen_name': 'joincfe', 'name': 'Coding Entrepreneurs', 'id': 4730574793, 'id_str': '4730574793', 'indices': [39, 47]}], 'urls': []}, source='Learn Twitter API igor-bond', source_url='https://github.com/igor-bond16/Coding_challenge_in_Python', in_reply_to_status_id=None, in_reply_to_status_id_str=None, in_reply_to_user_id=None, in_reply_to_user_id_str=None, in_reply_to_screen_name=None, author=User(_api=<tweepy.api.API object at 0x7fa42df9e8>, _json={'id': 1234395995342950401, 'id_str': '1234395995342950401', 'name': 'Bond Igor', 'screen_name': 'Bond01164976', 'location': '', 'description': 'Bond Igorでyoutube をやっています。\\n▶https://t.co/XTREpEIkn2\\nLivedoorblogもやっています。⇩', 'url': 'https://t.co/Tw42AOJsIz', 'entities': {'url': {'urls': [{'url': 'https://t.co/Tw42AOJsIz', 'expanded_url': 'http://igorbond.livedoor.blog', 'display_url': 'igorbond.livedoor.blog', 'indices': [0, 23]}]}, 'description': {'urls': [{'url': 'https://t.co/XTREpEIkn2', 'expanded_url': 'https://www.youtube.com/channel/UCDYbu9aViDvkubFcwgbbKDA', 'display_url': 'youtube.com/channel/UCDYbu…', 'indices': [28, 51]}]}}, 'protected': False, 'followers_count': 38, 'friends_count': 9, 'listed_count': 0, 'created_at': 'Mon Mar 02 08:32:08 +0000 2020', 'favourites_count': 55, 'utc_offset': None, 'time_zone': None, 'geo_enabled': True, 'verified': False, 'statuses_count': 66, 'lang': None, 'contributors_enabled': False, 'is_translator': False, 'is_translation_enabled': False, 'profile_background_color': 'F5F8FA', 'profile_background_image_url': None, 'profile_background_image_url_https': None, 'profile_background_tile': False, 'profile_image_url': 'http://pbs.twimg.com/profile_images/1234396175182123008/7yrkErPP_normal.jpg', 'profile_image_url_https': 'https://pbs.twimg.com/profile_images/1234396175182123008/7yrkErPP_normal.jpg', 'profile_link_color': '1DA1F2', 'profile_sidebar_border_color': 'C0DEED', 'profile_sidebar_fill_color': 'DDEEF6', 'profile_text_color': '333333', 'profile_use_background_image': True, 'has_extended_profile': True, 'default_profile': True, 'default_profile_image': False, 'following': False, 'follow_request_sent': False, 'notifications': False, 'translator_type': 'none'}, id=1234395995342950401, id_str='1234395995342950401', name='Bond Igor', screen_name='Bond01164976', location='', description='Bond Igorでyoutube をやっています。\\n▶https://t.co/XTREpEIkn2\\nLivedoorblogもやっています。⇩', url='https://t.co/Tw42AOJsIz', entities={'url': {'urls': [{'url': 'https://t.co/Tw42AOJsIz', 'expanded_url': 'http://igorbond.livedoor.blog', 'display_url': 'igorbond.livedoor.blog', 'indices': [0, 23]}]}, 'description': {'urls': [{'url': 'https://t.co/XTREpEIkn2', 'expanded_url': 'https://www.youtube.com/channel/UCDYbu9aViDvkubFcwgbbKDA', 'display_url': 'youtube.com/channel/UCDYbu…', 'indices': [28, 51]}]}}, protected=False, followers_count=38, friends_count=9, listed_count=0, created_at=datetime.datetime(2020, 3, 2, 8, 32, 8), favourites_count=55, utc_offset=None, time_zone=None, geo_enabled=True, verified=False, statuses_count=66, lang=None, contributors_enabled=False, is_translator=False, is_translation_enabled=False, profile_background_color='F5F8FA', profile_background_image_url=None, profile_background_image_url_https=None, profile_background_tile=False, profile_image_url='http://pbs.twimg.com/profile_images/1234396175182123008/7yrkErPP_normal.jpg', profile_image_url_https='https://pbs.twimg.com/profile_images/1234396175182123008/7yrkErPP_normal.jpg', profile_link_color='1DA1F2', profile_sidebar_border_color='C0DEED', profile_sidebar_fill_color='DDEEF6', profile_text_color='333333', profile_use_background_image=True, has_extended_profile=True, default_profile=True, default_profile_image=False, following=False, follow_request_sent=False, notifications=False, translator_type='none'), user=User(_api=<tweepy.api.API object at 0x7fa42df9e8>, _json={'id': 1234395995342950401, 'id_str': '1234395995342950401', 'name': 'Bond Igor', 'screen_name': 'Bond01164976', 'location': '', 'description': 'Bond Igorでyoutube をやっています。\\n▶https://t.co/XTREpEIkn2\\nLivedoorblogもやっています。⇩', 'url': 'https://t.co/Tw42AOJsIz', 'entities': {'url': {'urls': [{'url': 'https://t.co/Tw42AOJsIz', 'expanded_url': 'http://igorbond.livedoor.blog', 'display_url': 'igorbond.livedoor.blog', 'indices': [0, 23]}]}, 'description': {'urls': [{'url': 'https://t.co/XTREpEIkn2', 'expanded_url': 'https://www.youtube.com/channel/UCDYbu9aViDvkubFcwgbbKDA', 'display_url': 'youtube.com/channel/UCDYbu…', 'indices': [28, 51]}]}}, 'protected': False, 'followers_count': 38, 'friends_count': 9, 'listed_count': 0, 'created_at': 'Mon Mar 02 08:32:08 +0000 2020', 'favourites_count': 55, 'utc_offset': None, 'time_zone': None, 'geo_enabled': True, 'verified': False, 'statuses_count': 66, 'lang': None, 'contributors_enabled': False, 'is_translator': False, 'is_translation_enabled': False, 'profile_background_color': 'F5F8FA', 'profile_background_image_url': None, 'profile_background_image_url_https': None, 'profile_background_tile': False, 'profile_image_url': 'http://pbs.twimg.com/profile_images/1234396175182123008/7yrkErPP_normal.jpg', 'profile_image_url_https': 'https://pbs.twimg.com/profile_images/1234396175182123008/7yrkErPP_normal.jpg', 'profile_link_color': '1DA1F2', 'profile_sidebar_border_color': 'C0DEED', 'profile_sidebar_fill_color': 'DDEEF6', 'profile_text_color': '333333', 'profile_use_background_image': True, 'has_extended_profile': True, 'default_profile': True, 'default_profile_image': False, 'following': False, 'follow_request_sent': False, 'notifications': False, 'translator_type': 'none'}, id=1234395995342950401, id_str='1234395995342950401', name='Bond Igor', screen_name='Bond01164976', location='', description='Bond Igorでyoutube をやっています。\\n▶https://t.co/XTREpEIkn2\\nLivedoorblogもやっています。⇩', url='https://t.co/Tw42AOJsIz', entities={'url': {'urls': [{'url': 'https://t.co/Tw42AOJsIz', 'expanded_url': 'http://igorbond.livedoor.blog', 'display_url': 'igorbond.livedoor.blog', 'indices': [0, 23]}]}, 'description': {'urls': [{'url': 'https://t.co/XTREpEIkn2', 'expanded_url': 'https://www.youtube.com/channel/UCDYbu9aViDvkubFcwgbbKDA', 'display_url': 'youtube.com/channel/UCDYbu…', 'indices': [28, 51]}]}}, protected=False, followers_count=38, friends_count=9, listed_count=0, created_at=datetime.datetime(2020, 3, 2, 8, 32, 8), favourites_count=55, utc_offset=None, time_zone=None, geo_enabled=True, verified=False, statuses_count=66, lang=None, contributors_enabled=False, is_translator=False, is_translation_enabled=False, profile_background_color='F5F8FA', profile_background_image_url=None, profile_background_image_url_https=None, profile_background_tile=False, profile_image_url='http://pbs.twimg.com/profile_images/1234396175182123008/7yrkErPP_normal.jpg', profile_image_url_https='https://pbs.twimg.com/profile_images/1234396175182123008/7yrkErPP_normal.jpg', profile_link_color='1DA1F2', profile_sidebar_border_color='C0DEED', profile_sidebar_fill_color='DDEEF6', profile_text_color='333333', profile_use_background_image=True, has_extended_profile=True, default_profile=True, default_profile_image=False, following=False, follow_request_sent=False, notifications=False, translator_type='none'), geo=None, coordinates=None, place=None, contributors=None, is_quote_status=False, retweet_count=0, favorite_count=0, favorited=False, retweeted=False, lang='en')"
      ]
     },
     "execution_count": 27,
     "metadata": {},
     "output_type": "execute_result"
    }
   ],
   "source": [
    "new_status.destroy()"
   ]
  },
  {
   "cell_type": "code",
   "execution_count": 28,
   "metadata": {},
   "outputs": [],
   "source": [
    "img_obj = api.media_upload(\"img.png\")"
   ]
  },
  {
   "cell_type": "code",
   "execution_count": 29,
   "metadata": {},
   "outputs": [
    {
     "data": {
      "text/plain": [
       "['__class__',\n",
       " '__delattr__',\n",
       " '__dict__',\n",
       " '__dir__',\n",
       " '__doc__',\n",
       " '__eq__',\n",
       " '__format__',\n",
       " '__ge__',\n",
       " '__getattribute__',\n",
       " '__getstate__',\n",
       " '__gt__',\n",
       " '__hash__',\n",
       " '__init__',\n",
       " '__init_subclass__',\n",
       " '__le__',\n",
       " '__lt__',\n",
       " '__module__',\n",
       " '__ne__',\n",
       " '__new__',\n",
       " '__reduce__',\n",
       " '__reduce_ex__',\n",
       " '__repr__',\n",
       " '__setattr__',\n",
       " '__sizeof__',\n",
       " '__str__',\n",
       " '__subclasshook__',\n",
       " '__weakref__',\n",
       " '_api',\n",
       " 'expires_after_secs',\n",
       " 'image',\n",
       " 'media_id',\n",
       " 'media_id_string',\n",
       " 'parse',\n",
       " 'parse_list',\n",
       " 'size']"
      ]
     },
     "execution_count": 29,
     "metadata": {},
     "output_type": "execute_result"
    }
   ],
   "source": [
    "dir(img_obj)"
   ]
  },
  {
   "cell_type": "code",
   "execution_count": 30,
   "metadata": {},
   "outputs": [],
   "source": [
    "new_status = api.update_status(\"Hello world from the 30 Days of Python @joincfe what up?\",media_ids=[img_obj.media_id_string])"
   ]
  },
  {
   "cell_type": "code",
   "execution_count": 31,
   "metadata": {},
   "outputs": [
    {
     "data": {
      "text/plain": [
       "Status(_api=<tweepy.api.API object at 0x7fa42df9e8>, _json={'created_at': 'Thu May 14 22:35:04 +0000 2020', 'id': 1261062503548612609, 'id_str': '1261062503548612609', 'text': 'Hello world from the 30 Days of Python @joincfe what up? https://t.co/45uIUUmlwt', 'truncated': False, 'entities': {'hashtags': [], 'symbols': [], 'user_mentions': [{'screen_name': 'joincfe', 'name': 'Coding Entrepreneurs', 'id': 4730574793, 'id_str': '4730574793', 'indices': [39, 47]}], 'urls': [], 'media': [{'id': 1261062111557488652, 'id_str': '1261062111557488652', 'indices': [57, 80], 'media_url': 'http://pbs.twimg.com/media/EYAxTx8WkAwzBBt.jpg', 'media_url_https': 'https://pbs.twimg.com/media/EYAxTx8WkAwzBBt.jpg', 'url': 'https://t.co/45uIUUmlwt', 'display_url': 'pic.twitter.com/45uIUUmlwt', 'expanded_url': 'https://twitter.com/Bond01164976/status/1261062503548612609/photo/1', 'type': 'photo', 'sizes': {'medium': {'w': 1200, 'h': 675, 'resize': 'fit'}, 'thumb': {'w': 150, 'h': 150, 'resize': 'crop'}, 'large': {'w': 1920, 'h': 1080, 'resize': 'fit'}, 'small': {'w': 680, 'h': 383, 'resize': 'fit'}}}]}, 'extended_entities': {'media': [{'id': 1261062111557488652, 'id_str': '1261062111557488652', 'indices': [57, 80], 'media_url': 'http://pbs.twimg.com/media/EYAxTx8WkAwzBBt.jpg', 'media_url_https': 'https://pbs.twimg.com/media/EYAxTx8WkAwzBBt.jpg', 'url': 'https://t.co/45uIUUmlwt', 'display_url': 'pic.twitter.com/45uIUUmlwt', 'expanded_url': 'https://twitter.com/Bond01164976/status/1261062503548612609/photo/1', 'type': 'photo', 'sizes': {'medium': {'w': 1200, 'h': 675, 'resize': 'fit'}, 'thumb': {'w': 150, 'h': 150, 'resize': 'crop'}, 'large': {'w': 1920, 'h': 1080, 'resize': 'fit'}, 'small': {'w': 680, 'h': 383, 'resize': 'fit'}}}]}, 'source': '<a href=\"https://github.com/igor-bond16/Coding_challenge_in_Python\" rel=\"nofollow\">Learn Twitter API igor-bond</a>', 'in_reply_to_status_id': None, 'in_reply_to_status_id_str': None, 'in_reply_to_user_id': None, 'in_reply_to_user_id_str': None, 'in_reply_to_screen_name': None, 'user': {'id': 1234395995342950401, 'id_str': '1234395995342950401', 'name': 'Bond Igor', 'screen_name': 'Bond01164976', 'location': '', 'description': 'Bond Igorでyoutube をやっています。\\n▶https://t.co/XTREpEIkn2\\nLivedoorblogもやっています。⇩', 'url': 'https://t.co/Tw42AOJsIz', 'entities': {'url': {'urls': [{'url': 'https://t.co/Tw42AOJsIz', 'expanded_url': 'http://igorbond.livedoor.blog', 'display_url': 'igorbond.livedoor.blog', 'indices': [0, 23]}]}, 'description': {'urls': [{'url': 'https://t.co/XTREpEIkn2', 'expanded_url': 'https://www.youtube.com/channel/UCDYbu9aViDvkubFcwgbbKDA', 'display_url': 'youtube.com/channel/UCDYbu…', 'indices': [28, 51]}]}}, 'protected': False, 'followers_count': 38, 'friends_count': 9, 'listed_count': 0, 'created_at': 'Mon Mar 02 08:32:08 +0000 2020', 'favourites_count': 55, 'utc_offset': None, 'time_zone': None, 'geo_enabled': True, 'verified': False, 'statuses_count': 65, 'lang': None, 'contributors_enabled': False, 'is_translator': False, 'is_translation_enabled': False, 'profile_background_color': 'F5F8FA', 'profile_background_image_url': None, 'profile_background_image_url_https': None, 'profile_background_tile': False, 'profile_image_url': 'http://pbs.twimg.com/profile_images/1234396175182123008/7yrkErPP_normal.jpg', 'profile_image_url_https': 'https://pbs.twimg.com/profile_images/1234396175182123008/7yrkErPP_normal.jpg', 'profile_link_color': '1DA1F2', 'profile_sidebar_border_color': 'C0DEED', 'profile_sidebar_fill_color': 'DDEEF6', 'profile_text_color': '333333', 'profile_use_background_image': True, 'has_extended_profile': True, 'default_profile': True, 'default_profile_image': False, 'following': False, 'follow_request_sent': False, 'notifications': False, 'translator_type': 'none'}, 'geo': None, 'coordinates': None, 'place': None, 'contributors': None, 'is_quote_status': False, 'retweet_count': 0, 'favorite_count': 0, 'favorited': False, 'retweeted': False, 'possibly_sensitive': False, 'lang': 'en'}, created_at=datetime.datetime(2020, 5, 14, 22, 35, 4), id=1261062503548612609, id_str='1261062503548612609', text='Hello world from the 30 Days of Python @joincfe what up? https://t.co/45uIUUmlwt', truncated=False, entities={'hashtags': [], 'symbols': [], 'user_mentions': [{'screen_name': 'joincfe', 'name': 'Coding Entrepreneurs', 'id': 4730574793, 'id_str': '4730574793', 'indices': [39, 47]}], 'urls': [], 'media': [{'id': 1261062111557488652, 'id_str': '1261062111557488652', 'indices': [57, 80], 'media_url': 'http://pbs.twimg.com/media/EYAxTx8WkAwzBBt.jpg', 'media_url_https': 'https://pbs.twimg.com/media/EYAxTx8WkAwzBBt.jpg', 'url': 'https://t.co/45uIUUmlwt', 'display_url': 'pic.twitter.com/45uIUUmlwt', 'expanded_url': 'https://twitter.com/Bond01164976/status/1261062503548612609/photo/1', 'type': 'photo', 'sizes': {'medium': {'w': 1200, 'h': 675, 'resize': 'fit'}, 'thumb': {'w': 150, 'h': 150, 'resize': 'crop'}, 'large': {'w': 1920, 'h': 1080, 'resize': 'fit'}, 'small': {'w': 680, 'h': 383, 'resize': 'fit'}}}]}, extended_entities={'media': [{'id': 1261062111557488652, 'id_str': '1261062111557488652', 'indices': [57, 80], 'media_url': 'http://pbs.twimg.com/media/EYAxTx8WkAwzBBt.jpg', 'media_url_https': 'https://pbs.twimg.com/media/EYAxTx8WkAwzBBt.jpg', 'url': 'https://t.co/45uIUUmlwt', 'display_url': 'pic.twitter.com/45uIUUmlwt', 'expanded_url': 'https://twitter.com/Bond01164976/status/1261062503548612609/photo/1', 'type': 'photo', 'sizes': {'medium': {'w': 1200, 'h': 675, 'resize': 'fit'}, 'thumb': {'w': 150, 'h': 150, 'resize': 'crop'}, 'large': {'w': 1920, 'h': 1080, 'resize': 'fit'}, 'small': {'w': 680, 'h': 383, 'resize': 'fit'}}}]}, source='Learn Twitter API igor-bond', source_url='https://github.com/igor-bond16/Coding_challenge_in_Python', in_reply_to_status_id=None, in_reply_to_status_id_str=None, in_reply_to_user_id=None, in_reply_to_user_id_str=None, in_reply_to_screen_name=None, author=User(_api=<tweepy.api.API object at 0x7fa42df9e8>, _json={'id': 1234395995342950401, 'id_str': '1234395995342950401', 'name': 'Bond Igor', 'screen_name': 'Bond01164976', 'location': '', 'description': 'Bond Igorでyoutube をやっています。\\n▶https://t.co/XTREpEIkn2\\nLivedoorblogもやっています。⇩', 'url': 'https://t.co/Tw42AOJsIz', 'entities': {'url': {'urls': [{'url': 'https://t.co/Tw42AOJsIz', 'expanded_url': 'http://igorbond.livedoor.blog', 'display_url': 'igorbond.livedoor.blog', 'indices': [0, 23]}]}, 'description': {'urls': [{'url': 'https://t.co/XTREpEIkn2', 'expanded_url': 'https://www.youtube.com/channel/UCDYbu9aViDvkubFcwgbbKDA', 'display_url': 'youtube.com/channel/UCDYbu…', 'indices': [28, 51]}]}}, 'protected': False, 'followers_count': 38, 'friends_count': 9, 'listed_count': 0, 'created_at': 'Mon Mar 02 08:32:08 +0000 2020', 'favourites_count': 55, 'utc_offset': None, 'time_zone': None, 'geo_enabled': True, 'verified': False, 'statuses_count': 65, 'lang': None, 'contributors_enabled': False, 'is_translator': False, 'is_translation_enabled': False, 'profile_background_color': 'F5F8FA', 'profile_background_image_url': None, 'profile_background_image_url_https': None, 'profile_background_tile': False, 'profile_image_url': 'http://pbs.twimg.com/profile_images/1234396175182123008/7yrkErPP_normal.jpg', 'profile_image_url_https': 'https://pbs.twimg.com/profile_images/1234396175182123008/7yrkErPP_normal.jpg', 'profile_link_color': '1DA1F2', 'profile_sidebar_border_color': 'C0DEED', 'profile_sidebar_fill_color': 'DDEEF6', 'profile_text_color': '333333', 'profile_use_background_image': True, 'has_extended_profile': True, 'default_profile': True, 'default_profile_image': False, 'following': False, 'follow_request_sent': False, 'notifications': False, 'translator_type': 'none'}, id=1234395995342950401, id_str='1234395995342950401', name='Bond Igor', screen_name='Bond01164976', location='', description='Bond Igorでyoutube をやっています。\\n▶https://t.co/XTREpEIkn2\\nLivedoorblogもやっています。⇩', url='https://t.co/Tw42AOJsIz', entities={'url': {'urls': [{'url': 'https://t.co/Tw42AOJsIz', 'expanded_url': 'http://igorbond.livedoor.blog', 'display_url': 'igorbond.livedoor.blog', 'indices': [0, 23]}]}, 'description': {'urls': [{'url': 'https://t.co/XTREpEIkn2', 'expanded_url': 'https://www.youtube.com/channel/UCDYbu9aViDvkubFcwgbbKDA', 'display_url': 'youtube.com/channel/UCDYbu…', 'indices': [28, 51]}]}}, protected=False, followers_count=38, friends_count=9, listed_count=0, created_at=datetime.datetime(2020, 3, 2, 8, 32, 8), favourites_count=55, utc_offset=None, time_zone=None, geo_enabled=True, verified=False, statuses_count=65, lang=None, contributors_enabled=False, is_translator=False, is_translation_enabled=False, profile_background_color='F5F8FA', profile_background_image_url=None, profile_background_image_url_https=None, profile_background_tile=False, profile_image_url='http://pbs.twimg.com/profile_images/1234396175182123008/7yrkErPP_normal.jpg', profile_image_url_https='https://pbs.twimg.com/profile_images/1234396175182123008/7yrkErPP_normal.jpg', profile_link_color='1DA1F2', profile_sidebar_border_color='C0DEED', profile_sidebar_fill_color='DDEEF6', profile_text_color='333333', profile_use_background_image=True, has_extended_profile=True, default_profile=True, default_profile_image=False, following=False, follow_request_sent=False, notifications=False, translator_type='none'), user=User(_api=<tweepy.api.API object at 0x7fa42df9e8>, _json={'id': 1234395995342950401, 'id_str': '1234395995342950401', 'name': 'Bond Igor', 'screen_name': 'Bond01164976', 'location': '', 'description': 'Bond Igorでyoutube をやっています。\\n▶https://t.co/XTREpEIkn2\\nLivedoorblogもやっています。⇩', 'url': 'https://t.co/Tw42AOJsIz', 'entities': {'url': {'urls': [{'url': 'https://t.co/Tw42AOJsIz', 'expanded_url': 'http://igorbond.livedoor.blog', 'display_url': 'igorbond.livedoor.blog', 'indices': [0, 23]}]}, 'description': {'urls': [{'url': 'https://t.co/XTREpEIkn2', 'expanded_url': 'https://www.youtube.com/channel/UCDYbu9aViDvkubFcwgbbKDA', 'display_url': 'youtube.com/channel/UCDYbu…', 'indices': [28, 51]}]}}, 'protected': False, 'followers_count': 38, 'friends_count': 9, 'listed_count': 0, 'created_at': 'Mon Mar 02 08:32:08 +0000 2020', 'favourites_count': 55, 'utc_offset': None, 'time_zone': None, 'geo_enabled': True, 'verified': False, 'statuses_count': 65, 'lang': None, 'contributors_enabled': False, 'is_translator': False, 'is_translation_enabled': False, 'profile_background_color': 'F5F8FA', 'profile_background_image_url': None, 'profile_background_image_url_https': None, 'profile_background_tile': False, 'profile_image_url': 'http://pbs.twimg.com/profile_images/1234396175182123008/7yrkErPP_normal.jpg', 'profile_image_url_https': 'https://pbs.twimg.com/profile_images/1234396175182123008/7yrkErPP_normal.jpg', 'profile_link_color': '1DA1F2', 'profile_sidebar_border_color': 'C0DEED', 'profile_sidebar_fill_color': 'DDEEF6', 'profile_text_color': '333333', 'profile_use_background_image': True, 'has_extended_profile': True, 'default_profile': True, 'default_profile_image': False, 'following': False, 'follow_request_sent': False, 'notifications': False, 'translator_type': 'none'}, id=1234395995342950401, id_str='1234395995342950401', name='Bond Igor', screen_name='Bond01164976', location='', description='Bond Igorでyoutube をやっています。\\n▶https://t.co/XTREpEIkn2\\nLivedoorblogもやっています。⇩', url='https://t.co/Tw42AOJsIz', entities={'url': {'urls': [{'url': 'https://t.co/Tw42AOJsIz', 'expanded_url': 'http://igorbond.livedoor.blog', 'display_url': 'igorbond.livedoor.blog', 'indices': [0, 23]}]}, 'description': {'urls': [{'url': 'https://t.co/XTREpEIkn2', 'expanded_url': 'https://www.youtube.com/channel/UCDYbu9aViDvkubFcwgbbKDA', 'display_url': 'youtube.com/channel/UCDYbu…', 'indices': [28, 51]}]}}, protected=False, followers_count=38, friends_count=9, listed_count=0, created_at=datetime.datetime(2020, 3, 2, 8, 32, 8), favourites_count=55, utc_offset=None, time_zone=None, geo_enabled=True, verified=False, statuses_count=65, lang=None, contributors_enabled=False, is_translator=False, is_translation_enabled=False, profile_background_color='F5F8FA', profile_background_image_url=None, profile_background_image_url_https=None, profile_background_tile=False, profile_image_url='http://pbs.twimg.com/profile_images/1234396175182123008/7yrkErPP_normal.jpg', profile_image_url_https='https://pbs.twimg.com/profile_images/1234396175182123008/7yrkErPP_normal.jpg', profile_link_color='1DA1F2', profile_sidebar_border_color='C0DEED', profile_sidebar_fill_color='DDEEF6', profile_text_color='333333', profile_use_background_image=True, has_extended_profile=True, default_profile=True, default_profile_image=False, following=False, follow_request_sent=False, notifications=False, translator_type='none'), geo=None, coordinates=None, place=None, contributors=None, is_quote_status=False, retweet_count=0, favorite_count=0, favorited=False, retweeted=False, possibly_sensitive=False, lang='en')"
      ]
     },
     "execution_count": 31,
     "metadata": {},
     "output_type": "execute_result"
    }
   ],
   "source": [
    "new_status.destroy()"
   ]
  },
  {
   "cell_type": "code",
   "execution_count": null,
   "metadata": {},
   "outputs": [],
   "source": []
  }
 ],
 "metadata": {
  "kernelspec": {
   "display_name": "Python 3",
   "language": "python",
   "name": "python3"
  },
  "language_info": {
   "codemirror_mode": {
    "name": "ipython",
    "version": 3
   },
   "file_extension": ".py",
   "mimetype": "text/x-python",
   "name": "python",
   "nbconvert_exporter": "python",
   "pygments_lexer": "ipython3",
   "version": "3.6.9"
  }
 },
 "nbformat": 4,
 "nbformat_minor": 2
}
